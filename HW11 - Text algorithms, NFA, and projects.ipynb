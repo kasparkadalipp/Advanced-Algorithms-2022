{
 "cells": [
  {
   "cell_type": "markdown",
   "metadata": {},
   "source": [
    "# <font color=\"blue\">Submitted by: Kaspar Kadalipp </font>\n",
    "# HW11. Text algorithms, NFA and projects"
   ]
  },
  {
   "cell_type": "markdown",
   "metadata": {},
   "source": [
    "### <font color='orange'> Less important code is placed here</font>\n",
    "### <font color='orange'> Report is below </font>"
   ]
  },
  {
   "cell_type": "code",
   "execution_count": 1,
   "metadata": {},
   "outputs": [],
   "source": [
    "# Exercise 1\n",
    "\n",
    "from termcolor import colored\n",
    "import sys\n",
    "\n",
    "# print matched pattern in red\n",
    "def print_matches(matches, word):\n",
    "    result = ''\n",
    "    prev = 0\n",
    "    for match in matches:\n",
    "        result += word[prev:match['start']] + colored(word[match['start']:match['end']], 'red')\n",
    "        prev = match['end']\n",
    "    result += word[matches[-1]['end']:]\n",
    "    print(result, end='')\n",
    "\n",
    "def naive_search(pattern, word):\n",
    "    result = []\n",
    "    for i in range(len(word) - len(pattern) + 1):\n",
    "        for j in range(len(pattern)):\n",
    "            if word[i + j] != pattern[j]: break\n",
    "        else:\n",
    "            start = i\n",
    "            # don't print overlapping\n",
    "            if not result or start >= result[-1]['end']:\n",
    "                result.append({'start': start, 'end': start + len(pattern)})\n",
    "    return result\n",
    "\n",
    "def kmp_preprocess(pattern):\n",
    "    fail_links = [0] * len(pattern)\n",
    "    i = 1\n",
    "    j = 0  # prefix index\n",
    "    while i < len(pattern):\n",
    "        if pattern[i] == pattern[j]:\n",
    "            j += 1\n",
    "            fail_links[i] = j\n",
    "            i += 1\n",
    "        elif j == 0:\n",
    "            fail_links[i] = 0\n",
    "            i += 1\n",
    "        else:\n",
    "            j = fail_links[j - 1]\n",
    "    return fail_links\n",
    "\n",
    "\n",
    "# similar to www.geeksforgeeks.org/kmp-algorithm-for-pattern-searching\n",
    "def kmp_search(pattern, word):\n",
    "    result = []\n",
    "    fail_links = kmp_preprocess(pattern)\n",
    "    j = 0  # pattern index\n",
    "    i = 0  # word index\n",
    "    while (len(word) - i) >= (len(pattern) - j):\n",
    "        if pattern[j] == word[i]:\n",
    "            i += 1\n",
    "            j += 1\n",
    "        if j == len(pattern):\n",
    "            start = i - j\n",
    "            # don't print overlapping matches\n",
    "            if not result or start >= result[-1]['end']:\n",
    "                result.append({'start': start, 'end': start + len(pattern)})\n",
    "            j = fail_links[j - 1]\n",
    "        elif i < len(word) and pattern[j] != word[i]:\n",
    "            if j != 0:\n",
    "                j = fail_links[j - 1]\n",
    "            else:\n",
    "                i += 1\n",
    "    return result\n",
    "\n",
    "# for command line\n",
    "def grep_naive():\n",
    "    pattern = sys.argv[1]\n",
    "    for line in sys.stdin:\n",
    "        matches = naive_search(pattern, line)\n",
    "        if matches:\n",
    "            print_matches(matches, line)\n",
    "\n",
    "\n",
    "def grep_naive_(pattern, file):\n",
    "    with open(file, 'r') as f:\n",
    "        while True:\n",
    "            line = f.readline()\n",
    "            if not line: break\n",
    "            matches = naive_search(pattern, line)\n",
    "            if matches:\n",
    "                print_matches(matches, line)\n",
    "\n",
    "# for command line\n",
    "def grep_kmp():\n",
    "    pattern = sys.argv[1]\n",
    "    for line in sys.stdin:\n",
    "        matches = kmp_search(pattern, line)\n",
    "        if matches:\n",
    "            print_matches(matches, line)\n",
    "\n",
    "def grep_kmp_(pattern, file):\n",
    "    with open(file, 'r') as f:\n",
    "        while True:\n",
    "            line = f.readline()\n",
    "            if not line: break\n",
    "            matches = kmp_search(pattern, line)\n",
    "            if matches:\n",
    "                print_matches(matches, line)"
   ]
  },
  {
   "cell_type": "markdown",
   "metadata": {},
   "source": [
    "# EX1\n",
    "\n",
    "#####  Write a very simple \"grep\" all by yourself - for comparing naive search and one other method of your choice from KMP, BMH, BMHHS algorithms. Use for example the same dictionary of English words as was used for hash function collision counting (<a href=\"https://raw.githubusercontent.com/dwyl/english-words/master/words.txt\">https://raw.githubusercontent.com/dwyl/english-words/master/words.txt</a>).\n",
    "\n",
    "I implemented grep using naive search and KMP algorithm. They take input from words.txt and print out words that include the pattern. Matched part is printed out in red just like grep does. Also, I demonstrated that a line can have multiple matches."
   ]
  },
  {
   "cell_type": "code",
   "execution_count": 2,
   "metadata": {},
   "outputs": [
    {
     "name": "stdout",
     "output_type": "stream",
     "text": [
      "bitch-\u001B[31mkitty\u001B[0m\n",
      "\u001B[31mkitty\u001B[0m-cat\n",
      "\u001B[31mkitty\u001B[0mcorner\n",
      "\u001B[31mkitty\u001B[0m-corner\n",
      "\u001B[31mkitty\u001B[0mcornered\n",
      "\u001B[31mkitty\u001B[0m-cornered\n",
      "\u001B[31mkitty\u001B[0msol\n",
      "s\u001B[31mkitty\u001B[0m\n",
      "s\u001B[31mkitty\u001B[0mboot\n"
     ]
    }
   ],
   "source": [
    "grep_naive_(pattern='kitty', file='words.txt')"
   ]
  },
  {
   "cell_type": "code",
   "execution_count": 3,
   "metadata": {},
   "outputs": [
    {
     "name": "stdout",
     "output_type": "stream",
     "text": [
      "bitch-\u001B[31mkitty\u001B[0m\n",
      "\u001B[31mkitty\u001B[0m-cat\n",
      "\u001B[31mkitty\u001B[0mcorner\n",
      "\u001B[31mkitty\u001B[0m-corner\n",
      "\u001B[31mkitty\u001B[0mcornered\n",
      "\u001B[31mkitty\u001B[0m-cornered\n",
      "\u001B[31mkitty\u001B[0msol\n",
      "s\u001B[31mkitty\u001B[0m\n",
      "s\u001B[31mkitty\u001B[0mboot\n"
     ]
    }
   ],
   "source": [
    "grep_kmp_(pattern= 'kitty', file='words.txt')"
   ]
  },
  {
   "cell_type": "markdown",
   "metadata": {},
   "source": [
    "![grep](https://i.imgur.com/7MDPgqw.png)"
   ]
  },
  {
   "cell_type": "markdown",
   "metadata": {},
   "source": [
    "# EX2\n",
    "\n",
    "##### Now, in comparison, use the grep (<a href=\"https://en.wikipedia.org/wiki/Grep\">https://en.wikipedia.org/wiki/Grep</a>) and fgrep (or grep -F) for multiple patterns. State the speed - how many MB/s and how many times faster are these than your code? What is the speed difference matching one (long, short) pattern vs many patterns?\n",
    "\n",
    "I created a 46.3 MB file from words.txt by copying its contents to a new file 10 times. I used 'random' as the long pattern, because it has few matches and 'ab' for the short pattern.\n",
    "\n",
    "Naive algorithm speed was ~15 MB/s for long pattern and ~8.8 MB/s for short pattern.\n",
    "\n",
    "KMP algorithm speed was ~8.8 MB/s for long pattern and ~ 7.1 MB/s for short pattern.\n",
    "\n",
    "Both grep and fgrep speed was ~1500 MB/s for long and ~1000 MB/s for short pattern.\n",
    "\n",
    "So grep is at least 100 times faster than my Python implementation of naive and KMP algorithm when running them from command line.\n",
    "It's clear that finding a long pattern takes less time than finding a short one. That might be because some words don't need to be searched as they are shorter than the long pattern and the short pattern is more likely to be matched multiple times.\n",
    "\n",
    "It's interesting to note that CPU usage was 99% for KMP and naive algorithm, but for grep and fgrep it was at most 96%.\n"
   ]
  },
  {
   "cell_type": "markdown",
   "metadata": {},
   "source": [
    "![comparison](https://i.imgur.com/enVfxdB.png)"
   ]
  },
  {
   "cell_type": "markdown",
   "metadata": {},
   "source": [
    "# EX3\n",
    "\n",
    "#####  Given the following\n",
    "\n",
    "```\n",
    "(ab|(aa|b)(ba)*(bb|a))*\n",
    "```\n",
    "\n",
    "##### Construct an NFA (Nondeterministic-Finite Automaton) using Thompson construction algorithm.\n",
    "\n",
    "##### Minimize the constructed NFA.\n",
    "\n",
    "##### Provide example patterns which are accepted by this automaton and some that are not."
   ]
  },
  {
   "cell_type": "markdown",
   "metadata": {},
   "source": [
    "Examples of accepted patterns:\n",
    "- aaa\n",
    "- aabb\n",
    "- ba\n",
    "- ab\n",
    "- baba\n",
    "- (empty string)\n",
    "\n",
    "Examples of not accepted patterns:\n",
    "- a\n",
    "- b\n",
    "- aab\n",
    "- baa\n",
    "- aba\n",
    "- bab\n",
    "\n",
    "![ex3](https://i.imgur.com/ZbxveUU.png)\n",
    "<font color=\"gray\" size=\"-2\">regex representation from: https://regexper.com/#%28ab%7C%28aa%7Cb%29%28ba%29*%28bb%7Ca%29%29*/</font>"
   ]
  },
  {
   "cell_type": "markdown",
   "metadata": {},
   "source": [
    "# EX4\n",
    "\n",
    "#####  A finite state transducer (FST) is a type of deterministic finite automaton whose output is a string and not just accept or reject. The following are state diagrams of finite state transducers T1 and T2.\n",
    "\n",
    "![ex4](https://courses.cs.ut.ee/MTAT.03.238/2022_fall/uploads/Main/automata.png)\n",
    "\n",
    "##### Each transition of an FST is labeled with two symbols, one designating the input symbol for that transition and the other designating the output symbol. The two symbols are written with a slash, /, separating them. In $T_1$, the transition from $q_1$ to $q_2$ has input symbol $2$ and output symbol $1$. Some transitions may have multiple input–output pairs, such as the transition in $T_1$ from $q_1$ to itself. When an FST computes on an input string $w$, it takes the input symbols $w_1 \\cdots w_n$ one by one and, starting at the start state, follows the transitions by matching the input labels with the sequence of symbols $w_1 \\cdots w_n = w$. Every time it goes along a transition, it outputs the corresponding output symbol. For example, on input 2212011, machine T1 enters the sequence of states $q_1$, $q_2$, $q_2$, $q_2$, $q_2$, $q_1$, $q_1$, $q_1$ and produces output 1111000. On input abbb, $T_2$ outputs 1011. Give the sequence of states entered and the output produced in each of the following parts:\n",
    "\n",
    "- $T_1$ on input 011\n",
    "- $T_1$ on input 211\n",
    "- $T_2$ on input b\n",
    "- $T_2$ on input bbab\n",
    "\n",
    "I visualised the sequence of states for each one."
   ]
  },
  {
   "cell_type": "markdown",
   "metadata": {},
   "source": [
    "![T1](https://i.imgur.com/nlIF0dF.png)\n",
    "![T2](https://i.imgur.com/oCaPlF6.png)"
   ]
  },
  {
   "cell_type": "markdown",
   "metadata": {},
   "source": [
    "# EX5\n",
    "\n",
    "##### Use the finite state transducer (FST) from EX4. Give the state diagram of an FST with the following behavior. Its input and output alphabets are {0,1}. Its output string is identical to the input string on the even positions but inverted on the odd positions. For example, on input 0000111 it should output 1010010.\n",
    "\n",
    "Transition from q1 to q2 means position was odd so the input string is inverted.\n",
    "Transition from q2 to q1 means position was even so the input string remain the same.\n",
    "\n",
    "I visualised the example input."
   ]
  },
  {
   "cell_type": "markdown",
   "metadata": {},
   "source": [
    "![ex5](https://i.imgur.com/Fh0QprU.png)"
   ]
  },
  {
   "cell_type": "markdown",
   "metadata": {},
   "source": [
    "# EX6 & EX7\n",
    "\n",
    "##### The course ends with the project to be completed usually by a small team of 2-3 people. Your task is to come up with one project proposal all by yourself (this is an individual task, you will have time to share) - taking ideas from project ideas file, from previous homeworks, or your imagination + google. E.g. you may attempt to extend some of the past exercises. Note - this is a proposal that you may use to attract other students to join; and this is at the same time a proposal that you do not need to start executing necessarily. So. it's more a planning exercise, not execution exercise.\n",
    "\n",
    "##### Your project proposal should have:\n",
    "- Title\n",
    "- 2-5 sentences of a short description\n",
    "- Briefly described the motivation and the main challenge of this project\n",
    "- Division of tasks, the estimated number of work hours per task, and deadline (aim at our poster session!)\n",
    "- Allocation of the 2-3 people to tasks and hours.\n",
    "- Recommended: create a GANTT chart to cover the previous two points.\n",
    "- Description of the envisioned end results that would go to the project report/poster.\n",
    "\n",
    "##### We will discuss these in the practice session."
   ]
  },
  {
   "cell_type": "markdown",
   "metadata": {},
   "source": [
    "\n",
    "###### Visualizing linear programing problems\n",
    "\n",
    "Linear programming problems in Design and Analysis of Algorithms course are quite difficult to comprehend. Creating step-by-step visualizations of how these algorithms work can help comprehend difficult concepts. For example, it would be interesting to see how each step in the simplex method narrows down possible solutions in the feasible region and how the derived dual problem is similar to the primal problem visually. Visualizations could be made for linear programming solutions of graph problems as well, such as finding maximum flow, matching and vertex cover.\n",
    "\n",
    "The result would take as input a linear programming problem, then solve it and finally provide step by step visualizations for the solution.\n",
    "<br>\n",
    "<br>\n",
    "Main difficulty comes from thoroughly understanding topics covered in Design and Analysis of Algorithms.\n",
    "\n",
    "Tasks could easily be divided between 2-3 people if everyone was assigned a different type of visualization.\n",
    "\n",
    "This project can certainly satisfy the required amount of hours requirement depending on how many and which types of linear programming problems are implemented.\n"
   ]
  }
 ],
 "metadata": {
  "kernelspec": {
   "display_name": "Python 3 (ipykernel)",
   "language": "python",
   "name": "python3"
  },
  "language_info": {
   "codemirror_mode": {
    "name": "ipython",
    "version": 3
   },
   "file_extension": ".py",
   "mimetype": "text/x-python",
   "name": "python",
   "nbconvert_exporter": "python",
   "pygments_lexer": "ipython3",
   "version": "3.10.6"
  }
 },
 "nbformat": 4,
 "nbformat_minor": 1
}
