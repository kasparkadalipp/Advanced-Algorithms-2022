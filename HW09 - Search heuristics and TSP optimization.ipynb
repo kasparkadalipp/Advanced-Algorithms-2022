{
 "cells": [
  {
   "cell_type": "markdown",
   "metadata": {},
   "source": [
    "# <font color=\"blue\">Submitted by: Kaspar Kadalipp </font>\n",
    "# HW9. Search heuristics and TSP optimization"
   ]
  },
  {
   "cell_type": "markdown",
   "metadata": {},
   "source": [
    "### <font color='orange'> Less important code is placed here</font>\n",
    "### <font color='orange'> Report is below </font>"
   ]
  },
  {
   "cell_type": "code",
   "execution_count": 1,
   "metadata": {},
   "outputs": [],
   "source": [
    "import math\n",
    "import random\n",
    "from queue import PriorityQueue\n",
    "import cv2"
   ]
  },
  {
   "cell_type": "code",
   "execution_count": 2,
   "metadata": {},
   "outputs": [],
   "source": [
    "inf = float('inf')\n",
    "ex1_data = \"\"\"circle 10 10 3 blue\n",
    "circle 240 240 3 red\n",
    "text \"A\" 15 20 20 black\n",
    "text \"B\" 225 235 20 black\n",
    "rectangle 0 50 150 60 pink\n",
    "rectangle 0 110 50 125 pink\n",
    "rectangle 70 110 250 125 pink\n",
    "rectangle 100 125 130 220 pink\n",
    "rectangle 160 150 180 250 pink\"\"\"\n",
    "\n",
    "ex3_data = \"\"\"circle 500 920 8 blue\n",
    "circle 500 80 8 red\n",
    "circle 100 250 75 lightgreen\n",
    "circle 300 250 75 lightgreen\n",
    "circle 500 250 75 lightgreen\n",
    "circle 700 250 75 lightgreen\n",
    "circle 900 250 75 lightgreen\n",
    "rectangle 100 400 900 500 lightblue\n",
    "rectangle 0 400 100 500 lightgreen\n",
    "rectangle 900 400 1000 500 lightgreen\n",
    "rectangle 0 600 400 650 pink\n",
    "rectangle 600 600 1000 650 pink\n",
    "rectangle 200 700 800 750 pink\n",
    "line 200 100 800 100 2 pink\n",
    "line 200 100 200 0 2 pink\n",
    "line 1000 1000 700 800 7 pink\n",
    "line 750 950 600 700 7 pink\n",
    "text \"A\" 510 930 20 black\n",
    "text \"B\" 510 80 20 black\"\"\"\n",
    "\n",
    "\n",
    "def interpretColor(color):\n",
    "    if color == 'pink':\n",
    "        return 'wall'\n",
    "    if color == 'lightgreen':\n",
    "        return 'swamp'\n",
    "    if color == 'lightblue':\n",
    "        return 'sea'\n",
    "    return inf\n",
    "\n",
    "\n",
    "def ex1_graph():\n",
    "    graph = [[inf for _ in range(250)] for _ in range(250)]\n",
    "    for line in ex1_data.split(\"\\n\"):\n",
    "        values = line.strip().split(\" \")\n",
    "        if values[0] == \"rectangle\":\n",
    "            name, x_start, y_start, x_end, y_end, color =  values\n",
    "            for x in range(int(x_start), int(x_end)):\n",
    "                for y in range(int(y_start), int(y_end)):\n",
    "                    graph[x][y] = 'wall'\n",
    "    return graph\n",
    "\n",
    "def ex3_graph():\n",
    "    graph = [[inf for _ in range(1000)] for _ in range(1000)]\n",
    "    img = cv2.imread('big_world.png', 0)\n",
    "    for row, values in enumerate(img):\n",
    "        for col, val in enumerate(values):\n",
    "            color = ''\n",
    "            if val == 204:\n",
    "                color = 'lightblue'\n",
    "            if val == 212:\n",
    "                color = 'pink'\n",
    "            if val == 199:\n",
    "                color = 'limegreen'\n",
    "            graph[col][row] = interpretColor(color)\n",
    "    return graph\n",
    "\n",
    "def manhattanDistance(node1, node2):\n",
    "    x1, y1 = node1\n",
    "    x2, y2 = node2\n",
    "    return abs(x1 - x2) + abs (y1 - y2)\n",
    "\n",
    "def chebyshevDistance(node1, node2):\n",
    "    x1, y1 = node1\n",
    "    x2, y2 = node2\n",
    "    return max(abs(x1 - x2), abs (y1 - y2))\n",
    "\n",
    "def euclideanDistance(node1, node2):\n",
    "    x1, y1 = node1\n",
    "    x2, y2 = node2\n",
    "    return math.sqrt((x1 - x2)**2 + (y1 - y2)**2)\n",
    "\n",
    "def getAdjacentManhattan(vertex):\n",
    "    x, y = vertex\n",
    "    return [(x-1, y), (x+1, y), (x, y-1), (x, y+1)]\n",
    "\n",
    "def getAdjacentChebyshev(vertex):\n",
    "    x, y = vertex\n",
    "    return [(x-1, y), (x-1, y-1), (x, y-1), (x+1, y-1), (x+1, y), (x+1, y+1), (x, y+1), (x-1, y+1)]\n",
    "\n",
    "def minimumDistance(graph, adjacent):\n",
    "    size = len(graph)\n",
    "    result = []\n",
    "    for row, col in adjacent:\n",
    "        if 0 <= row < size and 0 <= col < size:\n",
    "            if graph[row][col] != 'wall':\n",
    "                result.append(graph[row][col])\n",
    "    return min(result)\n",
    "\n",
    "def adjacentVertices(graph, adjacent):\n",
    "    result = []\n",
    "    size = len(graph)\n",
    "    for row, col in adjacent:\n",
    "        if 0 <= row < size and 0 <= col < size:\n",
    "            if graph[row][col] != 'wall':\n",
    "                result.append((row, col))\n",
    "    return result\n",
    "\n",
    "def visited_vertices(result, graph, distance, task):\n",
    "    with open(f'{task}_{distance}.txt', 'w+') as f:\n",
    "        for x,y in result:\n",
    "            f.write(f\"{x} {y}\\n\")\n",
    "\n",
    "def graphvis_visisted_vertices(result, graph, distance, task):\n",
    "    if task == 'ex3':\n",
    "        map = ex3_data\n",
    "    else:\n",
    "        map = ex1_data\n",
    "    with open(f'{task}_visited_{distance}.txt', 'w+') as f:\n",
    "        for x,y in result:\n",
    "            f.write(f\"circle {x} {y} 1 orange\\n\")\n",
    "        f.write(map)\n",
    "\n",
    "def graphvis_path(result, graph, goal, distance, task, iterations = 1):\n",
    "    if distance == \"manhattan\":\n",
    "        adjacentIndexes = getAdjacentManhattan\n",
    "    elif distance == \"chebyshev\":\n",
    "        adjacentIndexes = getAdjacentChebyshev\n",
    "    else:\n",
    "        print(\"invalid distance type\")\n",
    "        return\n",
    "\n",
    "    if task == 'ex3':\n",
    "        map = ex3_data\n",
    "    else:\n",
    "        map = ex1_data\n",
    "\n",
    "    last = goal\n",
    "    goal_x, goal_y = goal\n",
    "    if graph[goal_x][goal_y] == 'wall':\n",
    "        print(\"Goal can't be a wall\")\n",
    "        return\n",
    "    path = set()\n",
    "    for _ in range(iterations):\n",
    "        min_distance = graph[goal_x][goal_y]\n",
    "        while min_distance > 0:\n",
    "            vertices = adjacentVertices(graph, adjacentIndexes(last))\n",
    "            min_distance = minimumDistance(graph, adjacentIndexes(last))\n",
    "            next_best = [(x,y) for x, y in vertices if graph[x][y] == min_distance]\n",
    "            last = random.choice(next_best)\n",
    "            # last = random.choice([(x,y) for x, y in vertices if graph[x][y] == min_distance])\n",
    "            # last = [(x,y) for x, y in vertices if graph[x][y] == min_distance][0]\n",
    "            path.add(last)\n",
    "\n",
    "    with open(f'{task}_path_{distance}.txt', 'w+') as f:\n",
    "        for x,y in path:\n",
    "            f.write(f\"circle {x} {y} 1 orange\\n\")\n",
    "        f.write(map)"
   ]
  },
  {
   "cell_type": "code",
   "execution_count": 3,
   "metadata": {},
   "outputs": [],
   "source": [
    "# Exercise 1\n",
    "\n",
    "def dijkstra(start, distance):\n",
    "    if distance == \"manhattan\":\n",
    "        adjacentIndices = getAdjacentManhattan\n",
    "    elif distance == \"chebyshev\":\n",
    "        adjacentIndices = getAdjacentChebyshev\n",
    "    else:\n",
    "        print(\"invalid distance type\")\n",
    "        return\n",
    "\n",
    "    result = []\n",
    "    graph = ex1_graph()\n",
    "    visited = [[val == 'wall' for val in graph] for row in graph]\n",
    "\n",
    "    start_x, start_y = start\n",
    "    if graph[start_x][start_y] == 'wall':\n",
    "        print(\"Start can't be a wall\")\n",
    "        return\n",
    "    graph[start_x][start_y] = 0\n",
    "    visited[start_x][start_y] = True\n",
    "    queue = adjacentVertices(graph, adjacentIndices(start))\n",
    "    while queue:\n",
    "        vertex = queue.pop(0)\n",
    "        x,y = vertex\n",
    "        if visited[x][y]:\n",
    "            continue\n",
    "\n",
    "        visited[x][y] = True\n",
    "        graph[x][y] = minimumDistance(graph, adjacentIndices(vertex)) + 1\n",
    "        queue += adjacentVertices(graph, adjacentIndices(vertex))\n",
    "        result.append((x,y))\n",
    "    return result, graph\n",
    "\n",
    "def ex1(start, goal, distance):\n",
    "    vertex_list, distance_matrix = dijkstra(start, distance)\n",
    "    visited_vertices(vertex_list, distance_matrix, distance, \"ex1\")\n",
    "    graphvis_path(vertex_list, distance_matrix, goal, distance, \"ex1\")\n",
    "    graphvis_visisted_vertices(vertex_list, distance_matrix, distance, \"ex1\")\n",
    "    print(f\"Distance from A to B is {distance_matrix[goal[0]][goal[1]]} pixels using {distance} distance.\")"
   ]
  },
  {
   "cell_type": "code",
   "execution_count": 4,
   "metadata": {},
   "outputs": [],
   "source": [
    "# Exercise 2\n",
    "\n",
    "def prioritizedVertices(graph, start, goal, adjacent, distance, prev):\n",
    "    result = []\n",
    "    size = len(graph)\n",
    "    for row, col in adjacent:\n",
    "        if 0 <= row < size and 0 <= col < size:\n",
    "            if graph[row][col] != 'wall':\n",
    "                priority = prev + distance(goal, (row, col))\n",
    "                result.append((priority,(row, col)))\n",
    "    return result\n",
    "\n",
    "def aStar(start, goal, distance):\n",
    "    if distance == \"manhattan\":\n",
    "        adjacent = getAdjacentManhattan\n",
    "        distance_ = manhattanDistance\n",
    "    elif distance == \"chebyshev\":\n",
    "        adjacent = getAdjacentChebyshev\n",
    "        distance_ = chebyshevDistance\n",
    "    else:\n",
    "        print(\"invalid distance type\")\n",
    "        return\n",
    "\n",
    "    result = []\n",
    "    graph = ex1_graph()\n",
    "    visited = [[val == 'wall' for val in row] for row in graph]\n",
    "    queue = PriorityQueue()\n",
    "    start_x, start_y = start\n",
    "    if graph[start_x][start_y] == 'wall':\n",
    "        print(\"Start can't be a wall\")\n",
    "        return\n",
    "    graph[start_x][start_y] = 0\n",
    "    visited[start_x][start_y] = True\n",
    "    for vertex in prioritizedVertices(graph, start, goal, adjacent(start), distance_, 0 ):\n",
    "        queue.put(vertex)\n",
    "\n",
    "    while not queue.empty():\n",
    "        priority, vertex = queue.get()\n",
    "        x,y = vertex\n",
    "        if visited[x][y]:\n",
    "            continue\n",
    "        visited[x][y] = True\n",
    "        graph[x][y] = minimumDistance(graph, adjacent(vertex)) + 1\n",
    "        for val in prioritizedVertices(graph, start, goal, adjacent(vertex), distance_, graph[x][y]):\n",
    "            queue.put(val)\n",
    "        result.append(vertex)\n",
    "        if vertex == goal:\n",
    "            break\n",
    "    return result, graph\n",
    "\n",
    "def ex2(start, goal, distance):\n",
    "    vertex_list, distance_matrix = aStar(start, goal, distance)\n",
    "    visited_vertices(vertex_list, distance_matrix, distance, \"ex2\")\n",
    "    graphvis_path(vertex_list, distance_matrix, goal, distance, \"ex2\")\n",
    "    graphvis_visisted_vertices(vertex_list, distance_matrix, distance, \"ex2\")\n",
    "    print(f\"Distance from A to B is {distance_matrix[goal[0]][goal[1]]} pixels using {distance} distance.\")"
   ]
  },
  {
   "cell_type": "code",
   "execution_count": 5,
   "metadata": {},
   "outputs": [],
   "source": [
    "# Exercise 3\n",
    "\n",
    "def minimumDistance_ex3(graph, visited, adjacent):\n",
    "    size = len(graph)\n",
    "    result = []\n",
    "    for row, col in adjacent:\n",
    "        if 0 <= row < size and 0 <= col < size:\n",
    "            vertex = graph[row][col]\n",
    "            if vertex != 'wall':\n",
    "                if vertex == 'swamp' or vertex == 'sea':\n",
    "                    continue\n",
    "                else:\n",
    "                    result.append(graph[row][col])\n",
    "    return min(result)\n",
    "\n",
    "def dijkstra_ex3(start, distance):\n",
    "    if distance == \"manhattan\":\n",
    "        adjacentIndices = getAdjacentManhattan\n",
    "    elif distance == \"chebyshev\":\n",
    "        adjacentIndices = getAdjacentChebyshev\n",
    "    else:\n",
    "        print(\"invalid distance type\")\n",
    "        return\n",
    "\n",
    "    result = []\n",
    "    graph = ex3_graph()\n",
    "    visited = [[val == 'wall' for val in graph] for row in graph]\n",
    "\n",
    "    start_x, start_y = start\n",
    "    if graph[start_x][start_y] == 'wall':\n",
    "        print(\"Start can't be a wall\")\n",
    "        return\n",
    "    graph[start_x][start_y] = 0\n",
    "    visited[start_x][start_y] = True\n",
    "    queue = adjacentVertices(graph, adjacentIndices(start))\n",
    "    while queue:\n",
    "        vertex = queue.pop(0)\n",
    "        x,y = vertex\n",
    "        if visited[x][y]:\n",
    "            continue\n",
    "\n",
    "        visited[x][y] = True\n",
    "        new_distance = minimumDistance_ex3(graph, visited, adjacentIndices(vertex))\n",
    "        if graph[x][y] == 'sea':\n",
    "            new_distance  += 4\n",
    "        elif graph[x][y] == 'swamp':\n",
    "            new_distance += 2\n",
    "        else:\n",
    "            new_distance += 1\n",
    "        graph[x][y] = new_distance\n",
    "\n",
    "        queue += [(x,y) for x,y in adjacentVertices(graph, adjacentIndices(vertex)) if not visited[x][y]]\n",
    "        result.append((x,y))\n",
    "    return result, graph\n",
    "\n",
    "def ex3(start, goal, distance):\n",
    "    vertex_list, distance_matrix = dijkstra_ex3(start, distance)\n",
    "    visited_vertices(vertex_list, distance_matrix, distance, \"ex3\")\n",
    "    graphvis_path(vertex_list, distance_matrix, goal, distance, \"ex3\")\n",
    "    #graphvis_visisted_vertices(vertex_list, distance_matrix, distance, \"ex3\")\n",
    "    print(f\"Distance from A to B is {distance_matrix[goal[0]][goal[1]]} pixels using using {distance} distance.\")"
   ]
  },
  {
   "cell_type": "code",
   "execution_count": 6,
   "metadata": {},
   "outputs": [],
   "source": [
    "# Exercise 4\n",
    "\n",
    "def knn(vertices, distance_matrix, start):\n",
    "    current_vertex = start\n",
    "    path = [start]\n",
    "    visited = [False for val in range(len(vertices))] # Initialize all vertices as unvisited.\n",
    "    total_distance = 0\n",
    "    for i in range(len(vertices)-1):\n",
    "        # Select an vertex, set it as the current vertex u. Mark u as visited.\n",
    "        visited[current_vertex] = True\n",
    "        # Find out the shortest edge connecting the current vertex u and an unvisited vertex v.\n",
    "        added_distance, unvisited_vertex = min([(distance, vertex) for distance, vertex in distance_matrix[current_vertex] if not visited[vertex]])\n",
    "        path.append(unvisited_vertex)\n",
    "        total_distance += added_distance\n",
    "         # Set v as the current vertex u\n",
    "        current_vertex = unvisited_vertex\n",
    "    total_distance += euclideanDistance(vertices[start], vertices[path[-1]])\n",
    "    return path, total_distance\n",
    "\n",
    "def repetitive_nn(size):\n",
    "    with open(f'{size}.txt', 'r') as f:\n",
    "        vertices = [tuple(int(val) for val in line.strip().split(\" \")) for line in f.readlines()]\n",
    "    distance_matrix = [[0 for col in range(len(vertices))] for row in range(len(vertices))]\n",
    "    for row in range(len(vertices)):\n",
    "        for col in range(row, len(vertices)):\n",
    "            ed = euclideanDistance(vertices[row], vertices[col])\n",
    "            distance_matrix[row][col] = (ed, col)\n",
    "            distance_matrix[col][row] = (ed, row)\n",
    "\n",
    "    best_path = []\n",
    "    best_distance = inf\n",
    "    for start, vertex in enumerate(vertices):\n",
    "        new_path, new_distance = knn(vertices, distance_matrix, start)\n",
    "        if new_distance < best_distance:\n",
    "            best_path = new_path\n",
    "            best_distance = new_distance\n",
    "    return best_path, best_distance\n",
    "\n",
    "\n",
    "def ex4(sizes):\n",
    "    for size in sizes:\n",
    "        path, distance = repetitive_nn(size)\n",
    "        print(f'size = {size}, distance: {distance:.2f}, path: {path}')\n",
    "        with open(f'{size}_knn.txt', 'w+') as f:\n",
    "            for index in path:\n",
    "                f.write(f'{index}\\n')"
   ]
  },
  {
   "cell_type": "code",
   "execution_count": 1,
   "metadata": {},
   "outputs": [],
   "source": [
    "# Exercise 5\n",
    "def two_opt_switch(distance_matrix, vertices, prev_path, prev_distance):\n",
    "    best_path = prev_path\n",
    "    best_distance = prev_distance\n",
    "    for i in range(len(prev_path)):\n",
    "        for j in range(len(prev_path)):\n",
    "            path = best_path[:]\n",
    "            path[i], path[j] = path[j], path[i]\n",
    "            distance = 0\n",
    "            for k in range(1, len(path)):\n",
    "                distance += distance_matrix[path[k-1]][path[k]][0]\n",
    "            distance += euclideanDistance(vertices[path[0]], vertices[path[-1]])\n",
    "            if distance < best_distance:\n",
    "                best_path = path\n",
    "                best_distance = distance\n",
    "    return best_path, best_distance\n",
    "\n",
    "def ex5_path_optimization(size):\n",
    "    with open(f'{size}.txt', 'r') as f:\n",
    "        vertices = [tuple(int(val) for val in line.strip().split(\" \")) for line in f.readlines()]\n",
    "    distance_matrix = [[0 for col in range(len(vertices))] for row in range(len(vertices))]\n",
    "    for row in range(len(vertices)):\n",
    "        for col in range(row, len(vertices)):\n",
    "            ed = euclideanDistance(vertices[row], vertices[col])\n",
    "            distance_matrix[row][col] = (ed, col)\n",
    "            distance_matrix[col][row] = (ed, row)\n",
    "\n",
    "    best_path = []\n",
    "    best_distance = inf\n",
    "    for start, vertex in enumerate(vertices):\n",
    "        new_path, new_distance = knn(vertices, distance_matrix, start)\n",
    "        new_path, new_distance = two_opt_switch(distance_matrix,vertices, new_path, new_distance)\n",
    "        if new_distance < best_distance:\n",
    "            best_path = new_path\n",
    "            best_distance = new_distance\n",
    "    return best_path, best_distance\n",
    "\n",
    "def ex5(sizes):\n",
    "    for size in sizes:\n",
    "        path, distance = ex5_path_optimization(size)\n",
    "        print(f'size = {size}, distance: {distance:.2f}, path: {path}')\n",
    "        with open(f'{size}_knn_optimised.txt', 'w+') as f:\n",
    "            for index in path:\n",
    "                f.write(f'{index}\\n')"
   ]
  },
  {
   "cell_type": "markdown",
   "metadata": {},
   "source": [
    "# EX1\n",
    "\n",
    "##### Getting started with pathfinding in the small virtual world. The first task is to implement Dijkstra algorithm to find the shortest path from A (blue) to B (red) on the following small scale world (250x250). Pink is a block, you can not go through it! Report the shortest distance from A to B and the time it took to run the algorithm. Visualize the final path and pixels that were visited by the algorithm at any time. Comment on your results.\n",
    "\n",
    "##### To generate the image for the world use the following <a href=https://abercus.github.io/searchvis/>web tool</a>. Set the world size to 250x250 at the top and use the following object instructons to get the small world:"
   ]
  },
  {
   "cell_type": "markdown",
   "metadata": {},
   "source": [
    "I implemented Dijkstra algorithm using Manhattan and Chebyshev distance.\n",
    "\n",
    "Here I reconstructed the map from keywords and coordinates, since the map is rather simple. But in ex3 I detected the colors from the image file.\n",
    "\n",
    "The results seem correct. The shown paths aren't the only minimal length paths since when I randomly picked the next closest vertex it resulted in a squiggly line."
   ]
  },
  {
   "cell_type": "code",
   "execution_count": 8,
   "metadata": {},
   "outputs": [
    {
     "name": "stdout",
     "output_type": "stream",
     "text": [
      "93.2 ms ± 2.27 ms per loop (mean ± std. dev. of 7 runs, 10 loops each)\n"
     ]
    }
   ],
   "source": [
    "%timeit dijkstra(start=(10,10), distance=\"manhattan\")"
   ]
  },
  {
   "cell_type": "code",
   "execution_count": 9,
   "metadata": {},
   "outputs": [
    {
     "name": "stdout",
     "output_type": "stream",
     "text": [
      "616 ms ± 29.4 ms per loop (mean ± std. dev. of 7 runs, 1 loop each)\n"
     ]
    }
   ],
   "source": [
    "%timeit dijkstra(start=(10,10), distance=\"chebyshev\")"
   ]
  },
  {
   "cell_type": "code",
   "execution_count": 10,
   "metadata": {},
   "outputs": [
    {
     "name": "stdout",
     "output_type": "stream",
     "text": [
      "Distance from A to B is 764 pixels using manhattan distance.\n",
      "Distance from A to B is 550 pixels using chebyshev distance.\n"
     ]
    }
   ],
   "source": [
    "ex1(start=(10,10), goal=(240,240), distance=\"manhattan\")\n",
    "ex1(start=(10, 10), goal=(240, 240), distance=\"chebyshev\")"
   ]
  },
  {
   "cell_type": "markdown",
   "metadata": {},
   "source": [
    "![ex1](https://i.imgur.com/yusywV6.png)"
   ]
  },
  {
   "cell_type": "markdown",
   "metadata": {},
   "source": [
    "# EX2\n",
    "\n",
    "##### Implement A* search algorithm on the small world (the same as above). Similarly to the previous exercise report: execution time and the shortest distance. Visualize the visited area and the final path. Comment on the differences between Dijkstra and A*!"
   ]
  },
  {
   "cell_type": "markdown",
   "metadata": {},
   "source": [
    "I used sum of distance traveled and estimated distance to goal as the heuristic. The number of pixels visited is slightly smalled compared to Dijkstra, but this could be reduced with a different heuristic. Some suboptimal and non-admissible heuristic functions resulted in the image looking like a piece of modern art.\n",
    "\n",
    "Compared to Dijkstra A* finds the path without checking values of all pixels. A* has the advantage of knowing the goal and can use that info to optimise the path. A* is faster than Dijkstra but not for such small worlds in my case, using priority queue slowed down the algorithm quite a bit."
   ]
  },
  {
   "cell_type": "code",
   "execution_count": 11,
   "metadata": {},
   "outputs": [
    {
     "name": "stdout",
     "output_type": "stream",
     "text": [
      "489 ms ± 13.3 ms per loop (mean ± std. dev. of 7 runs, 1 loop each)\n"
     ]
    }
   ],
   "source": [
    "%timeit aStar(start=(10,10), goal=(240, 240), distance=\"manhattan\")"
   ]
  },
  {
   "cell_type": "code",
   "execution_count": 12,
   "metadata": {},
   "outputs": [
    {
     "name": "stdout",
     "output_type": "stream",
     "text": [
      "856 ms ± 20 ms per loop (mean ± std. dev. of 7 runs, 1 loop each)\n"
     ]
    }
   ],
   "source": [
    "%timeit aStar(start=(10,10), goal=(240, 240), distance=\"chebyshev\")"
   ]
  },
  {
   "cell_type": "code",
   "execution_count": 13,
   "metadata": {},
   "outputs": [
    {
     "name": "stdout",
     "output_type": "stream",
     "text": [
      "Distance from A to B is 764 pixels using manhattan distance.\n",
      "Distance from A to B is 550 pixels using chebyshev distance.\n"
     ]
    }
   ],
   "source": [
    "ex2(start=(10, 10), goal=(240, 240), distance=\"manhattan\")\n",
    "ex2(start=(10, 10), goal=(240, 240), distance=\"chebyshev\")"
   ]
  },
  {
   "cell_type": "markdown",
   "metadata": {},
   "source": [
    "![ex2](https://i.imgur.com/gbcNEvz.png)"
   ]
  },
  {
   "cell_type": "markdown",
   "metadata": {},
   "source": [
    "# EX3\n",
    "\n",
    "##### Now let’s consider the bigger version of the virtual world (1000x1000), which is provided below (Figure 4). The goal is still the same - find the path from A (BLUE) to B (RED). But now with some additional obstacles: SWAMP and SEA. SWAMP in light green, is 2 times slower compared to usual. SEA in light blue and is 4 times slower than the usual (taking one step in a sea, is equal to taking 4 steps on normal land). Measure and report the search time and the shortest distance. Visualize the visited area and the final path. How sea and swamp affect the final trajectory?\n",
    "\n",
    "##### Hint: make sure to use efficient data structures for keeping visited/discovered nodes, e.g. consider the priority queue for A*. Using inefficient data structures can end up your search running for a really long time!. Another way to speed up your search is by making steps longer. So, instead of considering every immediate nearest neighbor as a potential next step, consider only nodes that are 2-3 pixels away (or even 10-20 pixels).\n",
    "\n",
    "##### Hint II: for the slower regions like the sea or swamp decide the distance or time spent on each step based on the slow-down in the location of the target pixel.\n",
    "\n",
    "##### The instructions to build a bigger version of the virtual world are provided in the file and below (<a href=https://raw.githubusercontent.com/PuuraJ/AdvancedAlgorithmics/master/big_world.txt>URL</a>). Feel free to either ignore or remove the “text” lines. The world size is 1000x1000"
   ]
  },
  {
   "cell_type": "markdown",
   "metadata": {},
   "source": [
    "I used Dijkstra's algorithm to calculate all distances. For swamp and sea I added either +1 or +3 to the manhattan distance to accommodate the slow-down. Despite this it seems with manhattan distance the optimal path goes through the slow sea. However, the swamp was avoided.\n",
    "\n",
    "Because the larger map was slightly more complex than the previous one I detected elements using color values of the image using OpenCV."
   ]
  },
  {
   "cell_type": "code",
   "execution_count": 14,
   "metadata": {},
   "outputs": [
    {
     "name": "stdout",
     "output_type": "stream",
     "text": [
      "Distance from A to B is 2323 pixels using using manhattan distance.\n"
     ]
    }
   ],
   "source": [
    "ex3(start=(500, 80), goal=(500, 920), distance=\"manhattan\")"
   ]
  },
  {
   "cell_type": "markdown",
   "metadata": {},
   "source": [
    "![ex3](https://i.imgur.com/QwBusAv.png)"
   ]
  },
  {
   "cell_type": "markdown",
   "metadata": {},
   "source": [
    "-----\n",
    "#### Traveling Salesman Problem, Optimization\n",
    "\n",
    "##### Take a look at the coordinates of hypothetical \"cities\" - <a href=https://courses.cs.ut.ee/2022/algorithmics/fall/uploads/Main/tsp.zip> TSP.zip</a>. Our goal is to find the shortest route through all cities (solve the TSP). Assume that there exists a direct road between any pair of cities (Euclidean distance; two points p1=(100,100), p2=(103,104) will have distance (p1, p2)=5 )."
   ]
  },
  {
   "cell_type": "markdown",
   "metadata": {},
   "source": [
    "# EX4\n",
    "\n",
    "##### Run the Nearest Neighbour (NN) algorithm to generate a route through all cities starting from any node (e.g. from node 0). Your route should also end in this node. If distances tie, choose the first city. Report the shortest tour and time it took to complete it for cities of size 10, 20 and 100. Visualize resulting paths either using a webtool: <a href=https://abercus.github.io/tspvis/>https://abercus.github.io/tspvis/</a> or your own code.\n",
    "\n",
    "##### To get a better feeling of the algorithm, feel free to try it also \"on paper\" for small size problems (e.g. 10 or 20-cities task). Implementation is preferred, of course, feeding to the next problems.\n"
   ]
  },
  {
   "cell_type": "markdown",
   "metadata": {},
   "source": [
    "I applied NN algorithm with every possible starting vertex and chose the shortest route from the results."
   ]
  },
  {
   "cell_type": "code",
   "execution_count": 15,
   "metadata": {},
   "outputs": [
    {
     "name": "stdout",
     "output_type": "stream",
     "text": [
      "128 µs ± 3.96 µs per loop (mean ± std. dev. of 7 runs, 10,000 loops each)\n"
     ]
    }
   ],
   "source": [
    "%timeit repetitive_nn(10)"
   ]
  },
  {
   "cell_type": "code",
   "execution_count": 16,
   "metadata": {},
   "outputs": [
    {
     "name": "stdout",
     "output_type": "stream",
     "text": [
      "536 µs ± 7.76 µs per loop (mean ± std. dev. of 7 runs, 1,000 loops each)\n"
     ]
    }
   ],
   "source": [
    "%timeit repetitive_nn(20)"
   ]
  },
  {
   "cell_type": "code",
   "execution_count": 17,
   "metadata": {},
   "outputs": [
    {
     "name": "stdout",
     "output_type": "stream",
     "text": [
      "40.4 ms ± 542 µs per loop (mean ± std. dev. of 7 runs, 10 loops each)\n"
     ]
    }
   ],
   "source": [
    "%timeit repetitive_nn(100)"
   ]
  },
  {
   "cell_type": "code",
   "execution_count": 18,
   "metadata": {},
   "outputs": [
    {
     "name": "stdout",
     "output_type": "stream",
     "text": [
      "size = 10, distance: 2261.66, path: [2, 0, 4, 8, 1, 3, 6, 5, 9, 7]\n",
      "size = 20, distance: 4479.17, path: [4, 9, 7, 12, 10, 11, 5, 15, 17, 18, 1, 19, 16, 3, 14, 0, 13, 2, 6, 8]\n",
      "size = 100, distance: 8449.27, path: [32, 30, 13, 34, 1, 49, 75, 64, 68, 66, 76, 56, 48, 63, 40, 39, 91, 43, 84, 82, 21, 89, 65, 94, 80, 22, 58, 46, 54, 78, 2, 26, 9, 33, 28, 98, 57, 8, 3, 69, 61, 83, 67, 71, 62, 6, 86, 7, 97, 14, 60, 5, 27, 47, 52, 23, 25, 79, 17, 45, 95, 10, 20, 77, 0, 74, 29, 24, 88, 4, 85, 18, 59, 44, 11, 42, 51, 19, 37, 36, 31, 90, 92, 50, 99, 93, 70, 53, 81, 15, 12, 73, 87, 38, 41, 55, 72, 35, 96, 16]\n"
     ]
    }
   ],
   "source": [
    "ex4(sizes = [10, 20, 100])"
   ]
  },
  {
   "cell_type": "markdown",
   "metadata": {},
   "source": [
    "![ex4](https://i.imgur.com/3LQVW70.png)"
   ]
  },
  {
   "cell_type": "markdown",
   "metadata": {},
   "source": [
    "# EX5\n",
    "\n",
    "##### Implement an optimization method of your choice (e.g. simulated annealing, genetic algorithm, ant colony optimization, hill climbing, tabu search etc.) on provided cites. For the sake of acceptable performance, you may calculate all possible distances before running your algorithm (distances between each two cities). It is recommended to work on small size problems (10, 20 nodes) first. As usual - report resulting path, its length, and execution time. Comment on comparison with nearest neighbour result.\n",
    "\n",
    "##### Hint: Many of the heuristic search algorithms described in the lecture, require the notion of \"neighbourhood\". Think of your current state as a sequence of cities, e.g. 1-2-3-4-5 (the resulting path). Then one way you can describe a neighbourhood of a certain sequence, is to try all possible swaps of two cities (or only sequential ones). Two possible example of a neighbour for 1-2-3-4-5 could then be 2-1-3-4-5, 1-3-2-4-5. Of course, you can describe neighbourhood in some other way as well, but you most likely don't want to consider every possible permutation as your neighbour! If you can generate the neighbours, then for example when implementing hill climb/simulated annealing/..., you would choose your next state to be the best result out of all the neighbours (the sequence with shortest total distance).\n"
   ]
  },
  {
   "cell_type": "markdown",
   "metadata": {},
   "source": [
    "I optimised the path by applying 2-opt improvements on each iteration of NN. Distance improved with 20 and 100 nodes compared to NN. Result for 10 nodes was identical to the previous exercise."
   ]
  },
  {
   "cell_type": "code",
   "execution_count": 19,
   "metadata": {},
   "outputs": [
    {
     "name": "stdout",
     "output_type": "stream",
     "text": [
      "1.28 ms ± 33.8 µs per loop (mean ± std. dev. of 7 runs, 1,000 loops each)\n"
     ]
    }
   ],
   "source": [
    "%timeit ex5_path_optimization(10)"
   ]
  },
  {
   "cell_type": "code",
   "execution_count": 20,
   "metadata": {},
   "outputs": [
    {
     "name": "stdout",
     "output_type": "stream",
     "text": [
      "14.2 ms ± 1.12 ms per loop (mean ± std. dev. of 7 runs, 100 loops each)\n"
     ]
    }
   ],
   "source": [
    "%timeit ex5_path_optimization(20)"
   ]
  },
  {
   "cell_type": "code",
   "execution_count": 21,
   "metadata": {},
   "outputs": [
    {
     "name": "stdout",
     "output_type": "stream",
     "text": [
      "6.31 s ± 375 ms per loop (mean ± std. dev. of 7 runs, 1 loop each)\n"
     ]
    }
   ],
   "source": [
    "%timeit ex5_path_optimization(100)"
   ]
  },
  {
   "cell_type": "code",
   "execution_count": 22,
   "metadata": {},
   "outputs": [
    {
     "name": "stdout",
     "output_type": "stream",
     "text": [
      "size = 10, distance: 2261.66, path: [2, 0, 4, 8, 1, 3, 6, 5, 9, 7]\n",
      "size = 20, distance: 4113.34, path: [5, 11, 10, 9, 7, 12, 15, 17, 18, 1, 19, 16, 3, 14, 0, 6, 8, 2, 13, 4]\n",
      "size = 100, distance: 8119.80, path: [32, 30, 13, 34, 1, 49, 75, 64, 68, 66, 76, 56, 48, 63, 40, 39, 91, 43, 84, 97, 21, 89, 65, 94, 80, 22, 58, 46, 54, 78, 2, 26, 9, 33, 28, 98, 57, 8, 3, 69, 61, 83, 67, 71, 62, 6, 86, 7, 82, 14, 60, 5, 27, 95, 52, 47, 23, 45, 17, 79, 25, 10, 20, 77, 4, 74, 0, 88, 24, 29, 85, 59, 18, 11, 44, 42, 51, 19, 36, 37, 31, 90, 92, 93, 99, 50, 70, 53, 81, 15, 12, 73, 87, 38, 41, 55, 72, 35, 96, 16]\n"
     ]
    }
   ],
   "source": [
    "ex5([10, 20, 100])"
   ]
  },
  {
   "cell_type": "markdown",
   "metadata": {},
   "source": [
    "![ex5](https://i.imgur.com/bI3bjLy.png)"
   ]
  }
 ],
 "metadata": {
  "kernelspec": {
   "display_name": "Python 3 (ipykernel)",
   "language": "python",
   "name": "python3"
  },
  "language_info": {
   "codemirror_mode": {
    "name": "ipython",
    "version": 3
   },
   "file_extension": ".py",
   "mimetype": "text/x-python",
   "name": "python",
   "nbconvert_exporter": "python",
   "pygments_lexer": "ipython3",
   "version": "3.10.6"
  }
 },
 "nbformat": 4,
 "nbformat_minor": 1
}
