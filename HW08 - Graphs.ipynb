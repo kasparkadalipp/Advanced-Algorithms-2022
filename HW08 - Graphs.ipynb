{
 "cells": [
  {
   "cell_type": "markdown",
   "metadata": {
    "pycharm": {
     "name": "#%% md\n"
    }
   },
   "source": [
    "# <font color=\"blue\">Submitted by: Kaspar Kadalipp </font>\n",
    "# HW8. Graphs"
   ]
  },
  {
   "cell_type": "markdown",
   "metadata": {
    "pycharm": {
     "name": "#%% md\n"
    }
   },
   "source": [
    "### <font color='orange'> Less important code is placed here</font>\n",
    "### <font color='orange'> Report is below </font>"
   ]
  },
  {
   "cell_type": "code",
   "execution_count": 1,
   "metadata": {
    "pycharm": {
     "name": "#%%\n"
    }
   },
   "outputs": [],
   "source": [
    "import numpy as np\n",
    "import matplotlib.pyplot as plt\n",
    "import random"
   ]
  },
  {
   "cell_type": "code",
   "execution_count": 2,
   "metadata": {
    "pycharm": {
     "name": "#%%\n"
    }
   },
   "outputs": [],
   "source": [
    "def create_matrix(size):\n",
    "    return [[0 for col in range(size)] for row in range(size)]\n",
    "\n",
    "\n",
    "def adjacent_vertices(vertex, graph):\n",
    "    return [vertex for vertex, is_connected in enumerate(graph[vertex]) if is_connected]\n",
    "\n",
    "\n",
    "def undirected_graph_matrix(vertices, edges):\n",
    "    graph = create_matrix(len(vertices))\n",
    "    for edge in edges:\n",
    "        start, end = edge\n",
    "        graph[start][end] = True\n",
    "        graph[end][start] = True\n",
    "    return graph\n",
    "\n",
    "\n",
    "def create_adjacency_matrix(outgoing_edges, vertices, fill_main_diagonal=False):\n",
    "    graph = create_matrix(len(vertices))\n",
    "    for start, end_list in outgoing_edges.items():\n",
    "        start = vertices[start]\n",
    "        for end in end_list:\n",
    "            end = vertices[end]\n",
    "            graph[start][end] = True\n",
    "    if fill_main_diagonal:\n",
    "        for i in range(len(vertices)):\n",
    "            graph[i][i] = True\n",
    "    return graph\n",
    "\n",
    "\n",
    "def print_result(moves_list, goal, show_steps=True):\n",
    "    def print_board(B):\n",
    "        for row in B:\n",
    "            print(*row)\n",
    "        print()\n",
    "\n",
    "    print(\"moves:\", moves_list)\n",
    "    print(\"goal: \", goal)\n",
    "    print()\n",
    "    print(\"Starting board\")\n",
    "    new_board = example_board\n",
    "    print_board(new_board)\n",
    "    for d in moves_list:\n",
    "        new_board = move(new_board, d)\n",
    "        if show_steps:\n",
    "            print(f\"---{d}---\")\n",
    "            print_board(new_board)\n",
    "    print(\"Final board\")\n",
    "    print_board(new_board)"
   ]
  },
  {
   "cell_type": "code",
   "execution_count": 3,
   "metadata": {
    "pycharm": {
     "name": "#%%\n"
    }
   },
   "outputs": [],
   "source": [
    "def ex1(file, nodes, xlim=False, yticks=False):\n",
    "    edges = 0\n",
    "    degrees = {i: 0 for i in range(nodes)}\n",
    "\n",
    "    graph = create_matrix(nodes)\n",
    "    with open(file, 'r') as f:\n",
    "        while True:\n",
    "            line = f.readline()\n",
    "            if not line:\n",
    "                break\n",
    "            line = line.split(\" \")\n",
    "            start = int(line[0])\n",
    "            end = int(line[1])\n",
    "\n",
    "            graph[start][end] = 1\n",
    "            graph[end][start] = 1\n",
    "\n",
    "    for row in range(nodes):\n",
    "        for col in range(row, nodes):\n",
    "            edges += graph[row][col]\n",
    "\n",
    "    for vertex, row in enumerate(graph):\n",
    "        degrees[vertex] = sum(row)\n",
    "\n",
    "    plt.figure(figsize=(10, 10))\n",
    "    plt.hist(np.hstack(list(degrees.values())), bins='auto')\n",
    "    if xlim: plt.xlim(0, xlim)\n",
    "    if yticks: plt.yticks(yticks)\n",
    "    plt.title(f\"Distribution of node degrees \\n \\n nodes {nodes:_}, edges {edges:_}\\n\", fontsize=16)\n",
    "    plt.xlabel('Degree (number of connections)', fontsize=16)\n",
    "    plt.ylabel('Count', fontsize=16)\n",
    "    plt.grid()\n",
    "    plt.show()"
   ]
  },
  {
   "cell_type": "code",
   "execution_count": 4,
   "metadata": {
    "pycharm": {
     "name": "#%%\n"
    }
   },
   "outputs": [
    {
     "name": "stdout",
     "output_type": "stream",
     "text": [
      "BFS directed edges:\n",
      "(0,), (0, 1), (0, 2), (0, 3), (0, 4), (0, 5), (0, 6), (0, 7), (0, 8), (0, 10), (0, 11), (0, 12), (0, 13), (0, 17), (0, 19), (0, 21), (0, 31), (1, 30), (2, 9), (2, 27), (2, 28), (2, 32), (5, 16), (8, 33), (31, 24), (31, 25), (27, 23), (32, 14), (32, 15), (32, 18), (32, 20), (32, 22), (32, 29), (33, 26), \n",
      "\n",
      "DFS directed edges:\n",
      "(0,), (0, 1), (1, 2), (2, 3), (3, 7), (3, 12), (3, 13), (13, 33), (33, 8), (8, 30), (30, 32), (32, 14), (32, 15), (32, 18), (32, 20), (32, 22), (32, 23), (23, 25), (25, 24), (24, 27), (24, 31), (31, 28), (23, 29), (29, 26), (33, 9), (33, 19), (1, 17), (1, 21), (0, 4), (4, 6), (6, 5), (5, 10), (5, 16), (0, 11), \n"
     ]
    }
   ],
   "source": [
    "def ex2(start=0, show_transitions=False):\n",
    "    vertices = [0, 1, 2, 3, 4, 5, 6, 7, 8, 9, 10, 11, 12, 13, 14, 15, 16, 17, 18, 19, 20, 21, 22, 23, 24, 25, 26, 27,\n",
    "                28, 29, 30, 31, 32, 33]\n",
    "    edge_list = [[0, 1], [0, 2], [0, 3], [0, 4], [0, 5], [0, 6], [0, 7], [0, 8], [0, 10], [0, 11], [0, 12], [0, 13],\n",
    "                 [0, 17], [0, 19], [0, 21], [0, 31], [1, 2], [1, 3], [1, 7], [1, 13], [1, 17], [1, 19], [1, 21],\n",
    "                 [1, 30], [2, 3], [2, 7], [2, 8], [2, 9], [2, 13], [2, 27], [2, 28], [2, 32], [3, 7], [3, 12], [3, 13],\n",
    "                 [4, 6], [4, 10], [5, 6], [5, 10], [5, 16], [6, 16], [8, 30], [8, 32], [8, 33], [9, 33], [13, 33],\n",
    "                 [14, 32], [14, 33], [15, 32], [15, 33], [18, 32], [18, 33], [19, 33], [20, 32], [20, 33], [22, 32],\n",
    "                 [22, 33], [23, 25], [23, 27], [23, 29], [23, 32], [23, 33], [24, 25], [24, 27], [24, 31], [25, 31],\n",
    "                 [26, 29], [26, 33], [27, 33], [28, 31], [28, 33], [29, 32], [29, 33], [30, 32], [30, 33], [31, 32],\n",
    "                 [31, 33], [32, 33]]\n",
    "\n",
    "    graph = undirected_graph_matrix(vertices, edge_list)\n",
    "\n",
    "    # EX2 implementations ####### START #################################################\n",
    "    def BFS(start):\n",
    "        visited = [False] * len(vertices)\n",
    "        queue = [start]\n",
    "        visited[start] = True\n",
    "\n",
    "        print(\"BFS traversal order:\")\n",
    "        while queue:\n",
    "            vertex = queue.pop(0)\n",
    "            print(vertex, end=\", \")\n",
    "            # add new vertices to queue prioritizing smallest\n",
    "            for adjacent_vertex in sorted(adjacent_vertices(vertex, graph)):\n",
    "                if not visited[adjacent_vertex]:\n",
    "                    visited[adjacent_vertex] = True\n",
    "                    queue.append(adjacent_vertex)\n",
    "        print()\n",
    "\n",
    "    def DFS(start):\n",
    "        visited = [False] * len(vertices)\n",
    "        stack = [start]\n",
    "\n",
    "        print(\"DFS traversal order:\")\n",
    "        while stack:\n",
    "            vertex = stack.pop(-1)\n",
    "            if visited[vertex]:\n",
    "                continue\n",
    "\n",
    "            print(vertex, end=\", \")\n",
    "            visited[vertex] = True\n",
    "            # smallest vertex will be on top of stack\n",
    "            for adjacent_vertex in sorted(adjacent_vertices(vertex, graph), reverse=True):\n",
    "                if not visited[adjacent_vertex]:\n",
    "                    stack.append(adjacent_vertex)\n",
    "        print()\n",
    "\n",
    "    # EX2 implementations ####### END #################################################\n",
    "\n",
    "    # optional\n",
    "    def BFS_transitions(start):\n",
    "        visited = [False] * len(vertices)\n",
    "        queue = [start]\n",
    "        transition_queue = [(0,)]\n",
    "        visited[start] = True\n",
    "\n",
    "        print(\"BFS directed edges:\")\n",
    "        while queue:\n",
    "            vertex = queue.pop(0)\n",
    "            transition = transition_queue.pop(0)\n",
    "            print(transition, end=\", \")\n",
    "            for adjacent_vertex in adjacent_vertices(vertex, graph):\n",
    "                if not visited[adjacent_vertex]:\n",
    "                    visited[adjacent_vertex] = True\n",
    "                    transition_queue.append((vertex, adjacent_vertex))\n",
    "                    queue.append(adjacent_vertex)\n",
    "        print()\n",
    "\n",
    "    # optional\n",
    "    def DFS_transitions(start):\n",
    "        visited = [False] * len(vertices)\n",
    "        stack = [start]\n",
    "        transitions_stack = [(start,)]\n",
    "\n",
    "        print(\"DFS directed edges:\")\n",
    "        while stack:\n",
    "            vertex = stack.pop(-1)\n",
    "            transition = transitions_stack.pop(-1)\n",
    "            if visited[vertex]:\n",
    "                continue\n",
    "\n",
    "            print(transition, end=\", \")\n",
    "            visited[vertex] = True\n",
    "            for adjacent_vertex in sorted(adjacent_vertices(vertex, graph), reverse=True):\n",
    "                stack.append(adjacent_vertex)\n",
    "                transitions_stack.append((vertex, adjacent_vertex))\n",
    "        print()\n",
    "\n",
    "    if show_transitions:\n",
    "        BFS_transitions(start)\n",
    "        print()\n",
    "        DFS_transitions(start)\n",
    "    else:\n",
    "        BFS(start)\n",
    "        print()\n",
    "        DFS(start)\n",
    "\n",
    "\n",
    "ex2(start=0, show_transitions=True)"
   ]
  },
  {
   "cell_type": "code",
   "execution_count": 5,
   "metadata": {
    "pycharm": {
     "name": "#%%\n"
    }
   },
   "outputs": [
    {
     "name": "stdout",
     "output_type": "stream",
     "text": [
      "3-hop graph directed edges\n",
      "\n",
      "('A', 'H'), ('A', 'K'), ('C', 'E'), ('C', 'F'), ('C', 'H'), ('C', 'I'), ('C', 'K'), ('D', 'E'), ('D', 'H'), ('D', 'J'), ('D', 'K'), ('E', 'E'), ('E', 'H'), ('E', 'K'), ('F', 'E'), ('F', 'F'), ('G', 'E'), ('G', 'F'), ('G', 'G'), ('H', 'H'), ('H', 'K'), ('I', 'H'), ('I', 'I'), ('I', 'K'), ('J', 'E'), ('J', 'J'), ('K', 'E'), ('K', 'F'), "
     ]
    }
   ],
   "source": [
    "def ex3(show):\n",
    "    vertices = {'A': 0, 'B': 1, 'C': 2, 'D': 3, 'E': 4, 'F': 5, 'G': 6, 'H': 7, 'I': 8, 'J': 9, 'K': 10}\n",
    "    vertices_ = {0: 'A', 1: 'B', 2: 'C', 3: 'D', 4: 'E', 5: 'F', 6: 'G', 7: 'H', 8: 'I', 9: 'J', 10: 'K'}\n",
    "    outgoing_edges = {'A': ['B', 'F'], 'B': [], 'C': ['B', 'E', 'G'], 'D': ['C'], 'E': ['H', 'K'], 'F': ['E'],\n",
    "                      'G': ['E', 'J'], 'H': ['F'], 'I': ['G'], 'J': ['I'], 'K': ['E']}\n",
    "    original_adjacency_graph = create_adjacency_matrix(outgoing_edges, vertices)\n",
    "\n",
    "    def print_matrix(matrix):\n",
    "        print(\" \", *[f\"  {vertex} \" for vertex in vertices])\n",
    "        for i, row in enumerate(matrix):\n",
    "            print(vertices_[i], [vertices_[vertex] if val else '-' for vertex, val in enumerate(row)])\n",
    "\n",
    "    # EX3 implementations ####### START #################################################\n",
    "    def BFS_approach():\n",
    "        # find vertices X distance away from a vertex\n",
    "        def BFS_at_distance(start, distance):\n",
    "            queue = [start]\n",
    "            depth = 0\n",
    "            while queue and depth < distance:\n",
    "                depth += 1\n",
    "                next_depth = set()\n",
    "\n",
    "                for vertex in queue:\n",
    "                    for adjacent_vertex in adjacent_vertices(vertex, original_adjacency_graph):\n",
    "                        next_depth.add(adjacent_vertex)\n",
    "                queue = next_depth\n",
    "            return list(queue)\n",
    "\n",
    "        # apply BFS to every vertex\n",
    "        hop3_adjacency_graph = create_matrix(len(vertices))\n",
    "        for vertex, row in enumerate(hop3_adjacency_graph):\n",
    "            for connection in BFS_at_distance(start=vertex, distance=3):\n",
    "                row[connection] = True\n",
    "\n",
    "        return hop3_adjacency_graph\n",
    "\n",
    "    def multiplication_approach():\n",
    "        numpy_matrix = np.array([np.array(row) for row in original_adjacency_graph])\n",
    "        numpy_3hop = numpy_matrix @ numpy_matrix @ numpy_matrix\n",
    "        numpy_3hop = [list(row) for row in numpy_3hop]\n",
    "        return numpy_3hop\n",
    "\n",
    "    # EX3 implementations ####### END #################################################\n",
    "\n",
    "    if show == \"original\":\n",
    "        print(\"Original graph adjacency matrix\")\n",
    "        print()\n",
    "        print_matrix(original_adjacency_graph)\n",
    "    if show == \"3-hop BFS\":\n",
    "        print(\"3-hop graph adjacency matrix - using BFS\")\n",
    "        print()\n",
    "        print_matrix(BFS_approach())\n",
    "    # optional\n",
    "    if show == \"3-hop matrix multiplication\":\n",
    "        print(\"3-hop Adjacency Graph - using matrix multiplication\")\n",
    "        print()\n",
    "        print_matrix(multiplication_approach())\n",
    "\n",
    "    if show == \"3-hop edges\":\n",
    "        print(\"3-hop graph directed edges\")\n",
    "        print()\n",
    "        for start, row in enumerate(BFS_approach()):\n",
    "            for end, col in enumerate(row):\n",
    "                if col:\n",
    "                    print((vertices_[start], vertices_[end]), end=\", \")\n",
    "\n",
    "\n",
    "ex3(\"3-hop edges\")"
   ]
  },
  {
   "cell_type": "code",
   "execution_count": 6,
   "metadata": {
    "pycharm": {
     "name": "#%%\n"
    }
   },
   "outputs": [],
   "source": [
    "def ex4(algorithm):\n",
    "    vertices = {'A': 0, 'B': 1, 'C': 2, 'D': 3, 'E': 4, 'F': 5, 'G': 6, 'H': 7, 'I': 8, 'J': 9, 'K': 10}\n",
    "    vertices_ = {0: 'A', 1: 'B', 2: 'C', 3: 'D', 4: 'E', 5: 'F', 6: 'G', 7: 'H', 8: 'I', 9: 'J', 10: 'K'}\n",
    "    outgoing_edges = {'A': ['B', 'F'], 'B': [], 'C': ['B', 'E', 'G'], 'D': ['C'], 'E': ['H', 'K'], 'F': ['E'],\n",
    "                      'G': ['E', 'J'], 'H': ['F'], 'I': ['G'], 'J': ['I'], 'K': ['E']}\n",
    "\n",
    "    def print_matrix(matrix):\n",
    "        INF = float('inf')\n",
    "        print(\" \", *[f\"  {vertex} \" for vertex in vertices])\n",
    "        for i, row in enumerate(matrix):\n",
    "            print(vertices_[i], [vertices_[vertex] if 0 < val < INF else '-' for vertex, val in enumerate(row)])\n",
    "        print()\n",
    "\n",
    "    # EX4 ####### START #################################################\n",
    "    def ggg_transitive_closure(G):\n",
    "        n = len(G)\n",
    "        graph = [[col for col in row] for row in G]\n",
    "\n",
    "        for i in range(n):\n",
    "            for s in range(n):\n",
    "                for t in range(n):\n",
    "                    if graph[s][i] and graph[i][t]:\n",
    "                        graph[s][t] = True\n",
    "        return graph\n",
    "\n",
    "    def warshall(G):\n",
    "        n = len(G)\n",
    "        graph = [[col for col in row] for row in G]\n",
    "\n",
    "        for i in range(n):\n",
    "            for s in range(n):\n",
    "                if graph[s][i]:\n",
    "                    for t in range(n):\n",
    "                        if graph[i][t]:\n",
    "                            graph[s][t] = True\n",
    "        return graph\n",
    "\n",
    "    def matrix_multiplication_transitive_closure(G):\n",
    "        n = len(G)\n",
    "        numpy_matrix = np.array([np.array(row) for row in adjacency_graph])\n",
    "\n",
    "        graph = numpy_matrix\n",
    "        # n - 1 steps guarantees that every vertex should reach every other vertex\n",
    "        for i in range(n - 1):\n",
    "            graph = graph @ numpy_matrix\n",
    "        graph = [list(row) for row in graph]\n",
    "        return graph\n",
    "\n",
    "    def floyd_warshall(G):\n",
    "        INF = float('inf')\n",
    "        n = len(G)\n",
    "        graph = [[INF if val == 0 else val for val in row] for row in G]\n",
    "\n",
    "        for k in range(n):\n",
    "            for i in range(n):\n",
    "                for j in range(n):\n",
    "                    graph[i][j] = min(graph[i][j], graph[i][k] + graph[k][j])\n",
    "        return graph\n",
    "\n",
    "    # EX4 ####### END #################################################\n",
    "\n",
    "    adjacency_graph = create_adjacency_matrix(outgoing_edges, vertices, fill_main_diagonal=True)\n",
    "    if algorithm == \"Warshall\":\n",
    "        print(\"Warshall algorithm\")\n",
    "        print()\n",
    "        print_matrix(warshall(adjacency_graph))\n",
    "    if algorithm == \"G*G*G\":\n",
    "        print(\"Transitive closure G*G*G*...\")\n",
    "        print()\n",
    "        print_matrix(ggg_transitive_closure(adjacency_graph))\n",
    "    if algorithm == \"Matrix multiplication\":\n",
    "        print(\"Matrix Multiplication approach\")\n",
    "        print()\n",
    "        print_matrix(matrix_multiplication_transitive_closure(adjacency_graph))\n",
    "    if algorithm == \"Floyd Warshall\":\n",
    "        adjacency_graph = create_adjacency_matrix(outgoing_edges, vertices)\n",
    "        print(\"Floyd Warshall algorithm\")\n",
    "        print()\n",
    "        print_matrix(floyd_warshall(adjacency_graph))"
   ]
  },
  {
   "cell_type": "code",
   "execution_count": 7,
   "metadata": {
    "pycharm": {
     "name": "#%%\n"
    }
   },
   "outputs": [],
   "source": [
    "def ex5(steps, scenario):\n",
    "    vertices = {'A': 0, 'B': 1, 'C': 2, 'D': 3, 'E': 4, 'F': 5, 'G': 6, 'H': 7, 'I': 8, 'J': 9, 'K': 10}\n",
    "    vertices_ = {0: 'A', 1: 'B', 2: 'C', 3: 'D', 4: 'E', 5: 'F', 6: 'G', 7: 'H', 8: 'I', 9: 'J', 10: 'K'}\n",
    "    outgoing_edges = {'A': ['B', 'F'], 'B': [], 'C': ['B', 'E', 'G'], 'D': ['C'], 'E': ['H', 'K'], 'F': ['E'],\n",
    "                      'G': ['E', 'J'], 'H': ['F'], 'I': ['G'], 'J': ['I'], 'K': ['E']}\n",
    "    vertices_list = [0, 1, 2, 3, 4, 5, 6, 7, 8, 9]\n",
    "    count = {0: 0, 1: 0, 2: 0, 3: 0, 4: 0, 5: 0, 6: 0, 7: 0, 8: 0, 9: 0, 10: 0}\n",
    "    graph = create_adjacency_matrix(outgoing_edges, vertices)\n",
    "    random.seed(0)\n",
    "\n",
    "    # EX5 ####### START #################################################\n",
    "    def random_vertex():\n",
    "        return random.choice(vertices_list)\n",
    "\n",
    "    # \"re-appearing anywhere\" from dead ends only\n",
    "    def random_walk_A(steps):\n",
    "        vertex = random_vertex()\n",
    "        for _ in range(steps):\n",
    "            count[vertex] += 1\n",
    "            adjacent = adjacent_vertices(vertex, graph)\n",
    "            if not adjacent:\n",
    "                vertex = random_vertex()\n",
    "            else:\n",
    "                vertex = random.choice(adjacent)\n",
    "\n",
    "    # Secondly, when walking, with 20% probability jump to any random vertex\n",
    "    def random_walk_B(steps):\n",
    "        vertex = random_vertex()\n",
    "        for _ in range(steps):\n",
    "            count[vertex] += 1\n",
    "            if random.random() < 0.2:\n",
    "                vertex = random_vertex()\n",
    "            else:\n",
    "                adjacent = adjacent_vertices(vertex, graph)\n",
    "                if not adjacent:\n",
    "                    vertex = random_vertex()\n",
    "                else:\n",
    "                    vertex = random.choice(adjacent)\n",
    "\n",
    "    # EX5 ####### END #################################################\n",
    "\n",
    "    if scenario == 'A':\n",
    "        print('Jump to a random vertex from dead ends only.')\n",
    "        random_walk_A(steps)\n",
    "    if scenario == 'B':\n",
    "        print(\"With 20% probability jump to any random vertex, 80% probability select random adjacent vertex\")\n",
    "        random_walk_B(steps)\n",
    "    for index, value in count.items():\n",
    "        print(f\"{vertices_[index]} {value / steps * 100:.4f}%\", end=\", \")\n",
    "    print()\n",
    "    print()"
   ]
  },
  {
   "cell_type": "markdown",
   "metadata": {
    "pycharm": {
     "name": "#%% md\n"
    }
   },
   "source": [
    "# EX1\n",
    "\n",
    "##### There are many data types that can be represented as graphs. Study online collection at <a href=https://snap.stanford.edu/data/>https://snap.stanford.edu/data/</a>. Select from there 2 graphs that are different in type and size. Consider them as undirected (if edge A->B exists, but B->A doesn't exist, then also add B->A) and characterize them by calculating:\n",
    "\n",
    "- ##### Nr of nodes\n",
    "- ##### Nr of edges\n",
    "- ##### Distribution of node degrees (visualize it using a histogram)\n",
    "\n",
    "##### What is the graph about? What can you tell about the graphs from these statistics? Are these graphs dense or sparse?"
   ]
  },
  {
   "cell_type": "markdown",
   "metadata": {
    "pycharm": {
     "name": "#%% md\n"
    }
   },
   "source": [
    "The first histogram is of a dataset consisting of 'circles' (or 'friends lists') from Facebook. There are 4039 people (nodes) but most have under 50 friends, some have up to 200 friends and few have over 250 friends. It's clear that this graph is sparse as there are few connections.\n",
    "\n",
    "The second histogram shows communication by email between members of a large research institution over a time span of 803 days. Nodes represent people and edges email from one to another at a certain time. There were 323 334 edges in the dataset but after removing parallel edges only 16 064 remained, parallel edge means that a person had previously received an email from the other person. What remains is a graph even more sparse than the first one. Values are lower all around.\n",
    "\n",
    "Used data:\n",
    "https://snap.stanford.edu/data/ego-Facebook.html - type: Social circles: Facebook\n",
    "https://snap.stanford.edu/data/email-Eu-core-temporal.html - type: email-Eu-core temporal network\n"
   ]
  },
  {
   "cell_type": "code",
   "execution_count": 8,
   "metadata": {
    "pycharm": {
     "name": "#%%\n"
    }
   },
   "outputs": [
    {
     "data": {
      "image/png": "[encoded data removed]",
      "text/plain": [
       "<Figure size 720x720 with 1 Axes>"
      ]
     },
     "metadata": {
      "needs_background": "light"
     },
     "output_type": "display_data"
    }
   ],
   "source": [
    "ex1(file='facebook_combined.txt', nodes=4039, xlim=250, yticks=[0, 25, 50, 100, 200, 300, 400, 500, 600])"
   ]
  },
  {
   "cell_type": "code",
   "execution_count": 9,
   "metadata": {
    "pycharm": {
     "name": "#%%\n"
    }
   },
   "outputs": [
    {
     "data": {
      "image/png": "[encoded data removed]",
      "text/plain": [
       "<Figure size 720x720 with 1 Axes>"
      ]
     },
     "metadata": {
      "needs_background": "light"
     },
     "output_type": "display_data"
    }
   ],
   "source": [
    "ex1(file='email-Eu-core-temporal.txt', nodes=1005, xlim=250, yticks=[0, 25, 50, 100, 200])"
   ]
  },
  {
   "cell_type": "markdown",
   "metadata": {
    "pycharm": {
     "name": "#%% md\n"
    }
   },
   "source": [
    "# EX2\n",
    "\n",
    "##### Read in the following UNdirected Graph dataset from: <a href=https://courses.cs.ut.ee/MTAT.03.238/2020_fall/uploads/Main/dataset_bfsdfs.txt>dataset link</a>\n",
    "\n",
    "##### The dataset starts with a description of vertices (below text VERTICES), which describe all graph vertices with their corresponding coordinates X and Y.\n",
    "\n",
    "##### E.g. 0 652 396, is vertex 0 at location X=652 Y=396.\n",
    "\n",
    "##### Lines after the line \"EDGES\" describe graph edges.\n",
    "\n",
    "##### E.g. 0 1, there exists an edge between nodes 0 and 1.\n",
    "\n",
    "##### You can visualize this graph on your own or by making use of the following web tool: <a href=https://abercus.github.io/searchvis/>Webtool searchvis</a>. Python code to generate input for visualisation can be found at <a href=https://github.com/PuuraJ/AdvancedAlgorithmics/blob/master/graph_task_visualiser.py>Graph task visualisation code</a>. Feel free to change parameters, modify the code or implement your own. Sample generated input for the web tool can be found here: <a href=https://github.com/PuuraJ/AdvancedAlgorithmics/blob/master/sample_input>link</a>:\n",
    "\n",
    "##### Your task here is to start from vertex with id 0 and perform Breadth-First Search and Depth-First Search:\n",
    "\n",
    "##### Start from node 0. Perform BFS and DFS and return the order of processing the nodes (the first time you start to process the node (e.g. when you add neighbours to queue/stack)). When adding neighbours, prioritize lower ID nodes first! E.g. if you have to add nodes 1 and 2 to stack/queue, add 1 first and then 2.\n",
    "\n",
    "##### The output of this task should be two sequences (one for BFS, one for DFS) [0,1,...] . Add this to your report!\n",
    "\n",
    "##### Now, visualize the output of your traversal by adding the order of processing to the visualisation (the one in darkred). To do that, you can either do it by hand (paint) or use the provided visualisation code and change line 152-153, where there is a variable \"traversal_order\". Change the sequence within the list to be the order of vertices being processed (previous output of the task, you can also use this to confirm your solution works as intended!). Also, add the visualisations of orderings to your report!\n",
    "\n",
    "##### Hint: If you use a queue (FiLo: First in - Last out) for first traversal and a stack (LiFo: Last in - First out) for second, then the code for the two solutions should be almost the same! In order to not process nodes you've already processed, you probably need to create an additional data structure to remind you which nodes have already been processed."
   ]
  },
  {
   "cell_type": "markdown",
   "metadata": {
    "pycharm": {
     "name": "#%% md\n"
    }
   },
   "source": [
    "I implemented BFS using a queue and DFS using a stack. Visualization is made with the provided code and using DFS/BFS result as input. At every step the adjacent vertices are sorted before being added to the queue in BFS. For DFS adjacent vertices are sorted in reverse order before being added to the stack."
   ]
  },
  {
   "cell_type": "code",
   "execution_count": 10,
   "metadata": {
    "pycharm": {
     "name": "#%%\n"
    }
   },
   "outputs": [
    {
     "name": "stdout",
     "output_type": "stream",
     "text": [
      "BFS traversal order:\n",
      "0, 1, 2, 3, 4, 5, 6, 7, 8, 10, 11, 12, 13, 17, 19, 21, 31, 30, 9, 27, 28, 32, 16, 33, 24, 25, 23, 14, 15, 18, 20, 22, 29, 26, \n",
      "\n",
      "DFS traversal order:\n",
      "0, 1, 2, 3, 7, 12, 13, 33, 8, 30, 32, 14, 15, 18, 20, 22, 23, 25, 24, 27, 31, 28, 29, 26, 9, 19, 17, 21, 4, 6, 5, 10, 16, 11, \n"
     ]
    }
   ],
   "source": [
    "ex2(start=0)"
   ]
  },
  {
   "cell_type": "markdown",
   "metadata": {
    "pycharm": {
     "name": "#%% md\n"
    }
   },
   "source": [
    "![BFS](https://i.imgur.com/ouDY5yQ.png)\n",
    "![DFS](https://i.imgur.com/If0x9uQ.png)"
   ]
  },
  {
   "cell_type": "markdown",
   "metadata": {
    "pycharm": {
     "name": "#%% md\n"
    }
   },
   "source": [
    "# EX3\n",
    "\n",
    "##### Use the following directed graph. Convert it into adjacency matrix representation and then convert the matrix into the graph where the original edges are replaced by \"3-hop\" edges or in other words - connect only vertices that are reachable in 3 steps of the original graph."
   ]
  },
  {
   "cell_type": "markdown",
   "metadata": {
    "pycharm": {
     "name": "#%% md\n"
    }
   },
   "source": [
    "I converted the given graph to an adjacency matrix. Then created its 3-hop adjacency matrix using two different approaches. Firstly with BFS, finding all vertices at distance 3 from the vertex. Secondly with matrix multiplication. Both approaches achieved the same result. Visualization of the result is included as well."
   ]
  },
  {
   "cell_type": "code",
   "execution_count": 11,
   "metadata": {
    "pycharm": {
     "name": "#%%\n"
    }
   },
   "outputs": [
    {
     "name": "stdout",
     "output_type": "stream",
     "text": [
      "Original graph adjacency matrix\n",
      "\n",
      "    A    B    C    D    E    F    G    H    I    J    K \n",
      "A ['-', 'B', '-', '-', '-', 'F', '-', '-', '-', '-', '-']\n",
      "B ['-', '-', '-', '-', '-', '-', '-', '-', '-', '-', '-']\n",
      "C ['-', 'B', '-', '-', 'E', '-', 'G', '-', '-', '-', '-']\n",
      "D ['-', '-', 'C', '-', '-', '-', '-', '-', '-', '-', '-']\n",
      "E ['-', '-', '-', '-', '-', '-', '-', 'H', '-', '-', 'K']\n",
      "F ['-', '-', '-', '-', 'E', '-', '-', '-', '-', '-', '-']\n",
      "G ['-', '-', '-', '-', 'E', '-', '-', '-', '-', 'J', '-']\n",
      "H ['-', '-', '-', '-', '-', 'F', '-', '-', '-', '-', '-']\n",
      "I ['-', '-', '-', '-', '-', '-', 'G', '-', '-', '-', '-']\n",
      "J ['-', '-', '-', '-', '-', '-', '-', '-', 'I', '-', '-']\n",
      "K ['-', '-', '-', '-', 'E', '-', '-', '-', '-', '-', '-']\n"
     ]
    }
   ],
   "source": [
    "ex3(\"original\")"
   ]
  },
  {
   "cell_type": "code",
   "execution_count": 12,
   "metadata": {
    "pycharm": {
     "name": "#%%\n"
    }
   },
   "outputs": [
    {
     "name": "stdout",
     "output_type": "stream",
     "text": [
      "3-hop graph adjacency matrix - using BFS\n",
      "\n",
      "    A    B    C    D    E    F    G    H    I    J    K \n",
      "A ['-', '-', '-', '-', '-', '-', '-', 'H', '-', '-', 'K']\n",
      "B ['-', '-', '-', '-', '-', '-', '-', '-', '-', '-', '-']\n",
      "C ['-', '-', '-', '-', 'E', 'F', '-', 'H', 'I', '-', 'K']\n",
      "D ['-', '-', '-', '-', 'E', '-', '-', 'H', '-', 'J', 'K']\n",
      "E ['-', '-', '-', '-', 'E', '-', '-', 'H', '-', '-', 'K']\n",
      "F ['-', '-', '-', '-', 'E', 'F', '-', '-', '-', '-', '-']\n",
      "G ['-', '-', '-', '-', 'E', 'F', 'G', '-', '-', '-', '-']\n",
      "H ['-', '-', '-', '-', '-', '-', '-', 'H', '-', '-', 'K']\n",
      "I ['-', '-', '-', '-', '-', '-', '-', 'H', 'I', '-', 'K']\n",
      "J ['-', '-', '-', '-', 'E', '-', '-', '-', '-', 'J', '-']\n",
      "K ['-', '-', '-', '-', 'E', 'F', '-', '-', '-', '-', '-']\n"
     ]
    }
   ],
   "source": [
    "ex3(\"3-hop BFS\")"
   ]
  },
  {
   "cell_type": "code",
   "execution_count": 13,
   "metadata": {
    "pycharm": {
     "name": "#%%\n"
    }
   },
   "outputs": [
    {
     "name": "stdout",
     "output_type": "stream",
     "text": [
      "3-hop Adjacency Graph - using matrix multiplication\n",
      "\n",
      "    A    B    C    D    E    F    G    H    I    J    K \n",
      "A ['-', '-', '-', '-', '-', '-', '-', 'H', '-', '-', 'K']\n",
      "B ['-', '-', '-', '-', '-', '-', '-', '-', '-', '-', '-']\n",
      "C ['-', '-', '-', '-', 'E', 'F', '-', 'H', 'I', '-', 'K']\n",
      "D ['-', '-', '-', '-', 'E', '-', '-', 'H', '-', 'J', 'K']\n",
      "E ['-', '-', '-', '-', 'E', '-', '-', 'H', '-', '-', 'K']\n",
      "F ['-', '-', '-', '-', 'E', 'F', '-', '-', '-', '-', '-']\n",
      "G ['-', '-', '-', '-', 'E', 'F', 'G', '-', '-', '-', '-']\n",
      "H ['-', '-', '-', '-', '-', '-', '-', 'H', '-', '-', 'K']\n",
      "I ['-', '-', '-', '-', '-', '-', '-', 'H', 'I', '-', 'K']\n",
      "J ['-', '-', '-', '-', 'E', '-', '-', '-', '-', 'J', '-']\n",
      "K ['-', '-', '-', '-', 'E', 'F', '-', '-', '-', '-', '-']\n"
     ]
    }
   ],
   "source": [
    "ex3(\"3-hop matrix multiplication\")"
   ]
  },
  {
   "cell_type": "markdown",
   "metadata": {
    "pycharm": {
     "name": "#%% md\n"
    }
   },
   "source": [
    "![Original](https://i.imgur.com/1kR0SlV.png)\n",
    "![3-hop](https://i.imgur.com/5kpeYQL.png)"
   ]
  },
  {
   "cell_type": "markdown",
   "metadata": {
    "pycharm": {
     "name": "#%% md\n"
    }
   },
   "source": [
    "# EX4\n",
    "\n",
    "##### Make a transitive closure of the same graph - using two approaches. 1) Multiplication approach: G\\*G\\*G\\*...; 3) with Warshall algorithm. Verify that you got the same answer.\n"
   ]
  },
  {
   "cell_type": "markdown",
   "metadata": {
    "pycharm": {
     "name": "#%% md\n"
    }
   },
   "source": [
    "I created transitive closure of the graph from ex3 using multiplication approach G\\*G\\*G\\*... and Warshall algorithm, both were present in lecture slides. Additionally, I did the same using matrix multiplication and Floyd-Warshall algorithm. All four gave the same result."
   ]
  },
  {
   "cell_type": "code",
   "execution_count": 14,
   "metadata": {
    "pycharm": {
     "name": "#%%\n"
    }
   },
   "outputs": [
    {
     "name": "stdout",
     "output_type": "stream",
     "text": [
      "Transitive closure G*G*G*...\n",
      "\n",
      "    A    B    C    D    E    F    G    H    I    J    K \n",
      "A ['A', 'B', '-', '-', 'E', 'F', '-', 'H', '-', '-', 'K']\n",
      "B ['-', 'B', '-', '-', '-', '-', '-', '-', '-', '-', '-']\n",
      "C ['-', 'B', 'C', '-', 'E', 'F', 'G', 'H', 'I', 'J', 'K']\n",
      "D ['-', 'B', 'C', 'D', 'E', 'F', 'G', 'H', 'I', 'J', 'K']\n",
      "E ['-', '-', '-', '-', 'E', 'F', '-', 'H', '-', '-', 'K']\n",
      "F ['-', '-', '-', '-', 'E', 'F', '-', 'H', '-', '-', 'K']\n",
      "G ['-', '-', '-', '-', 'E', 'F', 'G', 'H', 'I', 'J', 'K']\n",
      "H ['-', '-', '-', '-', 'E', 'F', '-', 'H', '-', '-', 'K']\n",
      "I ['-', '-', '-', '-', 'E', 'F', 'G', 'H', 'I', 'J', 'K']\n",
      "J ['-', '-', '-', '-', 'E', 'F', 'G', 'H', 'I', 'J', 'K']\n",
      "K ['-', '-', '-', '-', 'E', 'F', '-', 'H', '-', '-', 'K']\n",
      "\n"
     ]
    }
   ],
   "source": [
    "ex4(\"G*G*G\")"
   ]
  },
  {
   "cell_type": "code",
   "execution_count": 15,
   "metadata": {
    "pycharm": {
     "name": "#%%\n"
    }
   },
   "outputs": [
    {
     "name": "stdout",
     "output_type": "stream",
     "text": [
      "Warshall algorithm\n",
      "\n",
      "    A    B    C    D    E    F    G    H    I    J    K \n",
      "A ['A', 'B', '-', '-', 'E', 'F', '-', 'H', '-', '-', 'K']\n",
      "B ['-', 'B', '-', '-', '-', '-', '-', '-', '-', '-', '-']\n",
      "C ['-', 'B', 'C', '-', 'E', 'F', 'G', 'H', 'I', 'J', 'K']\n",
      "D ['-', 'B', 'C', 'D', 'E', 'F', 'G', 'H', 'I', 'J', 'K']\n",
      "E ['-', '-', '-', '-', 'E', 'F', '-', 'H', '-', '-', 'K']\n",
      "F ['-', '-', '-', '-', 'E', 'F', '-', 'H', '-', '-', 'K']\n",
      "G ['-', '-', '-', '-', 'E', 'F', 'G', 'H', 'I', 'J', 'K']\n",
      "H ['-', '-', '-', '-', 'E', 'F', '-', 'H', '-', '-', 'K']\n",
      "I ['-', '-', '-', '-', 'E', 'F', 'G', 'H', 'I', 'J', 'K']\n",
      "J ['-', '-', '-', '-', 'E', 'F', 'G', 'H', 'I', 'J', 'K']\n",
      "K ['-', '-', '-', '-', 'E', 'F', '-', 'H', '-', '-', 'K']\n",
      "\n"
     ]
    }
   ],
   "source": [
    "ex4(\"Warshall\")"
   ]
  },
  {
   "cell_type": "code",
   "execution_count": 16,
   "metadata": {
    "pycharm": {
     "name": "#%%\n"
    }
   },
   "outputs": [
    {
     "name": "stdout",
     "output_type": "stream",
     "text": [
      "Matrix Multiplication approach\n",
      "\n",
      "    A    B    C    D    E    F    G    H    I    J    K \n",
      "A ['A', 'B', '-', '-', 'E', 'F', '-', 'H', '-', '-', 'K']\n",
      "B ['-', 'B', '-', '-', '-', '-', '-', '-', '-', '-', '-']\n",
      "C ['-', 'B', 'C', '-', 'E', 'F', 'G', 'H', 'I', 'J', 'K']\n",
      "D ['-', 'B', 'C', 'D', 'E', 'F', 'G', 'H', 'I', 'J', 'K']\n",
      "E ['-', '-', '-', '-', 'E', 'F', '-', 'H', '-', '-', 'K']\n",
      "F ['-', '-', '-', '-', 'E', 'F', '-', 'H', '-', '-', 'K']\n",
      "G ['-', '-', '-', '-', 'E', 'F', 'G', 'H', 'I', 'J', 'K']\n",
      "H ['-', '-', '-', '-', 'E', 'F', '-', 'H', '-', '-', 'K']\n",
      "I ['-', '-', '-', '-', 'E', 'F', 'G', 'H', 'I', 'J', 'K']\n",
      "J ['-', '-', '-', '-', 'E', 'F', 'G', 'H', 'I', 'J', 'K']\n",
      "K ['-', '-', '-', '-', 'E', 'F', '-', 'H', '-', '-', 'K']\n",
      "\n"
     ]
    }
   ],
   "source": [
    "ex4(\"Matrix multiplication\")"
   ]
  },
  {
   "cell_type": "code",
   "execution_count": 17,
   "metadata": {
    "pycharm": {
     "name": "#%%\n"
    }
   },
   "outputs": [
    {
     "name": "stdout",
     "output_type": "stream",
     "text": [
      "Floyd Warshall algorithm\n",
      "\n",
      "    A    B    C    D    E    F    G    H    I    J    K \n",
      "A ['-', 'B', '-', '-', 'E', 'F', '-', 'H', '-', '-', 'K']\n",
      "B ['-', '-', '-', '-', '-', '-', '-', '-', '-', '-', '-']\n",
      "C ['-', 'B', '-', '-', 'E', 'F', 'G', 'H', 'I', 'J', 'K']\n",
      "D ['-', 'B', 'C', '-', 'E', 'F', 'G', 'H', 'I', 'J', 'K']\n",
      "E ['-', '-', '-', '-', 'E', 'F', '-', 'H', '-', '-', 'K']\n",
      "F ['-', '-', '-', '-', 'E', 'F', '-', 'H', '-', '-', 'K']\n",
      "G ['-', '-', '-', '-', 'E', 'F', 'G', 'H', 'I', 'J', 'K']\n",
      "H ['-', '-', '-', '-', 'E', 'F', '-', 'H', '-', '-', 'K']\n",
      "I ['-', '-', '-', '-', 'E', 'F', 'G', 'H', 'I', 'J', 'K']\n",
      "J ['-', '-', '-', '-', 'E', 'F', 'G', 'H', 'I', 'J', 'K']\n",
      "K ['-', '-', '-', '-', 'E', 'F', '-', 'H', '-', '-', 'K']\n",
      "\n"
     ]
    }
   ],
   "source": [
    "ex4(\"Floyd Warshall\")"
   ]
  },
  {
   "cell_type": "markdown",
   "metadata": {
    "pycharm": {
     "name": "#%% md\n"
    }
   },
   "source": [
    " # EX5\n",
    "\n",
    "##### Implement a \"random walk\" procedure following links randomly (equal probabilities). Using the same graph again, estimate the probability of being in any given node by varying how you deal with \"dead ends\" (e.g. node B) and \"nodes with no links into it\" (e.g. nodes D or A). First, try \"re-appearing anywhere\" from dead ends only. Secondly, when walking, with 20% probability jump to any random vertex in the network, and 80% of times select randomly and go to one of the neighbouring vertices. For both scenarios, provide the respective probabilities and identify the most important nodes."
   ]
  },
  {
   "cell_type": "markdown",
   "metadata": {
    "pycharm": {
     "name": "#%% md\n"
    }
   },
   "source": [
    "I implemented random walk without matrix multiplication by just keeping count of the times a vertex was visited.\n",
    "\n",
    "In first scenario vertices A, B D have probability of 0 because these edges don't have any incoming edges and vertex C only has 1 incoming edge from vertex D which means it can only be visited once. Vertices F, H, E, K and G, I, J form strongly connected components, however there's an edge going from G, I, J to F, H E, K but not the other way. Therefore, random walk will end up mainly going between vertices F, H, E, K. Vertex E has higher probability because it has two incoming edges in subgraph F, H, E, K while other vertices have only one incoming edge.\n",
    "\n",
    "In second scenario the probability distribution is much more uniform. Vertices A, B, D have low probability for the same reason as before. Similarly, vertices F, H, E, K have high probabiliy."
   ]
  },
  {
   "cell_type": "code",
   "execution_count": 18,
   "metadata": {
    "pycharm": {
     "name": "#%%\n"
    }
   },
   "outputs": [
    {
     "name": "stdout",
     "output_type": "stream",
     "text": [
      "Jump to a random vertex from dead ends only.\n",
      "A 0.0000%, B 0.0000%, C 0.0000%, D 0.0000%, E 39.8800%, F 20.1400%, G 0.0400%, H 20.1400%, I 0.0300%, J 0.0300%, K 19.7400%, \n",
      "\n",
      "With 20% probability jump to any random vertex, 80% probability select random adjacent vertex\n",
      "A 2.3600%, B 4.4000%, C 4.4500%, D 2.4800%, E 27.0600%, F 13.8500%, G 8.8800%, H 13.0600%, I 6.8800%, J 5.8300%, K 10.7500%, \n",
      "\n"
     ]
    }
   ],
   "source": [
    "ex5(steps=10_000, scenario=\"A\")\n",
    "ex5(steps=10_000, scenario=\"B\")"
   ]
  },
  {
   "cell_type": "markdown",
   "metadata": {
    "pycharm": {
     "name": "#%% md\n"
    }
   },
   "source": [
    "# EX7\n",
    "\n",
    "##### Tilt is a puzzle game played on a Tilt board: an n × n square grid, where grid square contains either a fixed obstacle, a movable slider, or neither (the grid square is empty). A Tilt move consists of tilting a board in any of the four cardinal directions (up, left, down or right), causing each slider to slide maximally in that direction until it hits either: the edge of the board, an obstacle, or another slider that cannot slide any further. A Tilt move results in a new Tilt board configuration. Given a Tilt board B with one grid square t labeled as the target, a sequence of k Tilt moves solves Tilt puzzle (B,t) if applying the moves in sequence to B results in a Tilt board configuration B' that contains a slider in square t. The figure below shows a small Tilt puzzle and a solution using the fewest possible moves k = 8. Obstacles are shown in black, movable sliders are circles, and the target square is shaded gray.\n",
    "\n",
    "##### We represent an n × n board configuration B using a length-n tuple of length-n tuples, each representing a row of the configuration, where the grid square in row y (from the top) and column x (from the left) is B[y][x], equal to either character ’#’ (an obstacle), ’o’ (a slider), or ’.’ (neither). We represent the target square by a tuple t = (xt, yt) where the puzzle is solved when B[yt][xt] = ’o’. Your code template has a function move(B, d) which computes a move from board B in direction d in O(n^2) time.\n",
    "\n",
    "\n"
   ]
  },
  {
   "cell_type": "markdown",
   "metadata": {
    "pycharm": {
     "name": "#%% md\n"
    }
   },
   "source": [
    "##### Given a Tilt puzzle with starting n × n board B containing b fixed obstacles and s movable sliders, argue that the number of board configurations reachable from B is at most: $(n^{2} - b)!/s!(n^{2}- b - s)!$\n",
    "\n",
    "Each of the $s$ sliders can be on any of the $n^2 -b$ empty cells, so there are $\\binom{n^2 - b}{s} = \\frac{(n^2 -b)!}{s!(n^2 - b - s)!}$ possible  configurations,  though  many  of  these  configurations  may  be  unreachable,  as  sliders may be blocked by obstacles from reaching some empty squares, or there may be gaps between sliders that cannot be created by tilting the puzzle.\n",
    "\n",
    "<font color=\"gray\" size=\"-2\">used resources: https://ocw.mit.edu/courses/6-006-introduction-to-algorithms-spring-2020/23d4cf5421c77bb55b3735f7e8f70dfe_MIT6_006S20_ps5_solutions.pdf and https://ocw.mit.edu/courses/6-006-introduction-to-algorithms-spring-2020/resources/mit6_006s20_ps5-template/</font>\n",
    "\n",
    "Implemented move operation here clearly takes $O(n^2)$ time as it moves all sliders. It starts looking from the opposite end and keep track of possible free positions where sliders can be moved to. The implemented algorithm manages to solve the example using the same set of moves and manages to solve test boards as well.\n"
   ]
  },
  {
   "cell_type": "code",
   "execution_count": 19,
   "metadata": {
    "pycharm": {
     "name": "#%%\n"
    }
   },
   "outputs": [
    {
     "name": "stdout",
     "output_type": "stream",
     "text": [
      "moves: ['down', 'right', 'up', 'right', 'up', 'left', 'down']\n",
      "goal:  (2, 2)\n",
      "\n",
      "Starting board\n",
      "o # . . .\n",
      ". # . . .\n",
      ". . . . .\n",
      ". . . . .\n",
      "o . # . .\n",
      "\n",
      "---down---\n",
      ". # . . .\n",
      ". # . . .\n",
      ". . . . .\n",
      "o . . . .\n",
      "o . # . .\n",
      "\n",
      "---right---\n",
      ". # . . .\n",
      ". # . . .\n",
      ". . . . .\n",
      ". . . . o\n",
      ". o # . .\n",
      "\n",
      "---up---\n",
      ". # . . o\n",
      ". # . . .\n",
      ". o . . .\n",
      ". . . . .\n",
      ". . # . .\n",
      "\n",
      "---right---\n",
      ". # . . o\n",
      ". # . . .\n",
      ". . . . o\n",
      ". . . . .\n",
      ". . # . .\n",
      "\n",
      "---up---\n",
      ". # . . o\n",
      ". # . . o\n",
      ". . . . .\n",
      ". . . . .\n",
      ". . # . .\n",
      "\n",
      "---left---\n",
      ". # o . .\n",
      ". # o . .\n",
      ". . . . .\n",
      ". . . . .\n",
      ". . # . .\n",
      "\n",
      "---down---\n",
      ". # . . .\n",
      ". # . . .\n",
      ". . o . .\n",
      ". . o . .\n",
      ". . # . .\n",
      "\n",
      "Final board\n",
      ". # . . .\n",
      ". # . . .\n",
      ". . o . .\n",
      ". . o . .\n",
      ". . # . .\n",
      "\n"
     ]
    }
   ],
   "source": [
    "def move(B, d):\n",
    "    board = [[val for val in row] for row in B]\n",
    "    n = len(board)\n",
    "    if d == 'up':\n",
    "        for col in range(n):\n",
    "            free_positions = []\n",
    "            for row in range(n):\n",
    "                if board[row][col] == '.':\n",
    "                    free_positions.append((row, col))\n",
    "                if board[row][col] == '#':\n",
    "                    free_positions.clear()\n",
    "                if board[row][col] == 'o' and free_positions:\n",
    "                    board[row][col] = '.'\n",
    "                    free_positions.append((row, col))\n",
    "                    new_row, new_col = free_positions.pop(0)\n",
    "                    board[new_row][new_col] = 'o'\n",
    "    if d == 'down':\n",
    "        for col in reversed(range(n)):\n",
    "            free_positions = []\n",
    "            for row in reversed(range(n)):\n",
    "                if board[row][col] == '.':\n",
    "                    free_positions.append((row, col))\n",
    "                if board[row][col] == '#':\n",
    "                    free_positions.clear()\n",
    "                if board[row][col] == 'o' and free_positions:\n",
    "                    board[row][col] = '.'\n",
    "                    free_positions.append((row, col))\n",
    "                    new_row, new_col = free_positions.pop(0)\n",
    "                    board[new_row][new_col] = 'o'\n",
    "    if d == 'left':\n",
    "        for row in range(n):\n",
    "            free_positions = []\n",
    "            for col in range(n):\n",
    "                if board[row][col] == '.':\n",
    "                    free_positions.append((row, col))\n",
    "                if board[row][col] == '#':\n",
    "                    free_positions.clear()\n",
    "                if board[row][col] == 'o' and free_positions:\n",
    "                    board[row][col] = '.'\n",
    "                    free_positions.append((row, col))\n",
    "                    new_row, new_col = free_positions.pop(0)\n",
    "                    board[new_row][new_col] = 'o'\n",
    "    if d == 'right':\n",
    "        for row in reversed(range(n)):\n",
    "            free_positions = []\n",
    "            for col in reversed(range(n)):\n",
    "                if board[row][col] == '.':\n",
    "                    free_positions.append((row, col))\n",
    "                if board[row][col] == '#':\n",
    "                    free_positions.clear()\n",
    "                if board[row][col] == 'o' and free_positions:\n",
    "                    board[row][col] = '.'\n",
    "                    free_positions.append((row, col))\n",
    "                    new_row, new_col = free_positions.pop(0)\n",
    "                    board[new_row][new_col] = 'o'\n",
    "\n",
    "    board = tuple(tuple(row) for row in board)\n",
    "    return board\n",
    "\n",
    "\n",
    "#Input:  B | Starting board configuration\n",
    "#        t | Tuple t=(x,y) representing the target square\n",
    "#output: M | List of moves that solves B(or None if B not solvable\n",
    "def solve_tilt(B, t):\n",
    "    M = []  # moves list\n",
    "    xt, yt = t\n",
    "    P = {B: None}\n",
    "    levels = [[B]]\n",
    "    while levels[-1]:\n",
    "        L = []  # new level\n",
    "        for B1 in levels[-1]:\n",
    "            for d in ('up', 'down', 'left', 'right'):\n",
    "                B2 = move(B1, d)\n",
    "                if B2 not in P:\n",
    "                    P[B2] = (B1, d)\n",
    "                    L.append(B2)\n",
    "                    if B2[yt][xt] == 'o':\n",
    "                        while P[B2]:\n",
    "                            B2, d = P[B2]\n",
    "                            M.append(d)\n",
    "                        M.reverse()\n",
    "                        return M\n",
    "        levels.append(L)\n",
    "    return None\n",
    "\n",
    "\n",
    "example_board = (\n",
    "    ('o', '#', '.', '.', '.'),\n",
    "    ('.', '#', '.', '.', '.'),\n",
    "    ('.', '.', '.', '.', '.'),\n",
    "    ('.', '.', '.', '.', '.'),\n",
    "    ('o', '.', '#', '.', '.'),\n",
    ")\n",
    "\n",
    "target = (2, 2)\n",
    "\n",
    "result = solve_tilt(example_board, target)\n",
    "\n",
    "print_result(moves_list=result, goal=target)"
   ]
  },
  {
   "cell_type": "code",
   "execution_count": 20,
   "metadata": {
    "pycharm": {
     "name": "#%%\n"
    }
   },
   "outputs": [
    {
     "name": "stdout",
     "output_type": "stream",
     "text": [
      "True\n",
      "True\n",
      "True\n",
      "True\n",
      "True\n"
     ]
    }
   ],
   "source": [
    "tests = (\n",
    "    (\n",
    "        (\n",
    "            (\n",
    "                ('#', '#', '.', '.', '.'),\n",
    "                ('.', 'o', '#', '.', '.'),\n",
    "                ('.', '.', 'o', '.', '.'),\n",
    "                ('.', '.', '.', '.', '.'),\n",
    "                ('#', '#', '#', '.', '.'),\n",
    "            ),\n",
    "            (4, 3),\n",
    "        ),\n",
    "        ('down', 'right')\n",
    "    ),\n",
    "    (\n",
    "        (\n",
    "            (\n",
    "                ('.', '.', '.', '.', '.'),\n",
    "                ('.', '.', 'o', '.', 'o'),\n",
    "                ('.', '.', '.', '#', '#'),\n",
    "                ('.', '.', '#', '#', '.'),\n",
    "                ('.', '.', '#', '.', '#'),\n",
    "            ),\n",
    "            (1, 3),\n",
    "        ),\n",
    "        ('down', 'left', 'down', 'right')\n",
    "    ),\n",
    "    (\n",
    "        (\n",
    "            (\n",
    "                ('.', '.', '.', '.', '.'),\n",
    "                ('.', '.', '.', '.', '.'),\n",
    "                ('.', '#', '#', '.', '.'),\n",
    "                ('#', '.', '.', '.', 'o'),\n",
    "                ('#', '#', '.', '#', 'o'),\n",
    "            ),\n",
    "            (1, 0),\n",
    "        ),\n",
    "        ('up', 'left', 'down', 'right', 'up', 'left')\n",
    "    ),\n",
    "    (\n",
    "        (\n",
    "            (\n",
    "                ('o', '#', '.', '.', '.'),\n",
    "                ('.', '#', '.', '.', '.'),\n",
    "                ('.', '.', '.', '.', '.'),\n",
    "                ('.', '.', '.', '.', '.'),\n",
    "                ('o', '.', '#', '.', '.')\n",
    "            ),\n",
    "            (2, 2),\n",
    "        ),\n",
    "        ('down', 'right', 'up', 'right', 'up', 'left', 'down')\n",
    "    ),\n",
    "    (\n",
    "        (\n",
    "            (\n",
    "                ('.', '.', '.', '.', '.', '.', '#'),\n",
    "                ('.', '.', '.', '.', '.', '#', '.'),\n",
    "                ('.', '.', '.', '.', '.', '#', '#'),\n",
    "                ('.', '.', '.', '.', '.', '#', '#'),\n",
    "                ('.', 'o', 'o', 'o', '.', '.', '.'),\n",
    "                ('#', '#', '#', '.', '.', '.', '.'),\n",
    "                ('#', '#', '#', 'o', '.', '.', '.'),\n",
    "            ),\n",
    "            (3, 3),\n",
    "        ),\n",
    "        ('up', 'left', 'down', 'right', 'up', 'right', 'up', 'left', 'down', 'right')\n",
    "    ),\n",
    ")\n",
    "\n",
    "for data, answer in tests:\n",
    "    print(answer == tuple(solve_tilt(*data)))"
   ]
  }
 ],
 "metadata": {
  "kernelspec": {
   "display_name": "Python 3 (ipykernel)",
   "language": "python",
   "name": "python3"
  },
  "language_info": {
   "codemirror_mode": {
    "name": "ipython",
    "version": 3
   },
   "file_extension": ".py",
   "mimetype": "text/x-python",
   "name": "python",
   "nbconvert_exporter": "python",
   "pygments_lexer": "ipython3",
   "version": "3.10.6"
  }
 },
 "nbformat": 4,
 "nbformat_minor": 1
}